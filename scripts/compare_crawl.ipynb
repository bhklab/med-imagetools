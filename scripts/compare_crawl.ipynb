{
 "cells": [
  {
   "cell_type": "code",
   "execution_count": 3,
   "metadata": {},
   "outputs": [],
   "source": [
    "import pandas as pd\n",
    "from pathlib import Path\n"
   ]
  },
  {
   "cell_type": "code",
   "execution_count": 7,
   "metadata": {},
   "outputs": [],
   "source": [
    "dirp = Path().cwd().parent / '.imgtools'\n",
    "old_path = dirp / 'imgtools_data.csv'\n",
    "new_path = dirp / 'cache/final_meta.csv'\n",
    "\n",
    "old = pd.read_csv(old_path)\n",
    "new = pd.read_csv(new_path)"
   ]
  },
  {
   "cell_type": "code",
   "execution_count": 15,
   "metadata": {},
   "outputs": [
    {
     "data": {
      "text/html": [
       "<pre style=\"white-space:pre;overflow-x:auto;line-height:normal;font-family:Menlo,'DejaVu Sans Mono',consolas,'Courier New',monospace\"><span style=\"font-style: italic\">               Unique Counts               </span>\n",
       "┏━━━━━━━━━━━━━━━━━━━┳━━━━━━━━━━┳━━━━━━━━━━┓\n",
       "┃<span style=\"font-weight: bold\">          Category </span>┃<span style=\"font-weight: bold\"> Old Data </span>┃<span style=\"font-weight: bold\"> New Data </span>┃\n",
       "┡━━━━━━━━━━━━━━━━━━━╇━━━━━━━━━━╇━━━━━━━━━━┩\n",
       "│<span style=\"color: #008080; text-decoration-color: #008080\">        Total Rows </span>│<span style=\"color: #c0c0c0; text-decoration-color: #c0c0c0\">      988 </span>│<span style=\"color: #008000; text-decoration-color: #008000\">      964 </span>│\n",
       "│<span style=\"color: #008080; text-decoration-color: #008080\">   Unique Patients </span>│<span style=\"color: #c0c0c0; text-decoration-color: #c0c0c0\">      195 </span>│<span style=\"color: #008000; text-decoration-color: #008000\">      195 </span>│\n",
       "│<span style=\"color: #008080; text-decoration-color: #008080\">    Unique Studies </span>│<span style=\"color: #c0c0c0; text-decoration-color: #c0c0c0\">      278 </span>│<span style=\"color: #008000; text-decoration-color: #008000\">      278 </span>│\n",
       "│<span style=\"color: #008080; text-decoration-color: #008080\">     Unique Series </span>│<span style=\"color: #c0c0c0; text-decoration-color: #c0c0c0\">      964 </span>│<span style=\"color: #008000; text-decoration-color: #008000\">      964 </span>│\n",
       "│<span style=\"color: #008080; text-decoration-color: #008080\"> Unique Modalities </span>│<span style=\"color: #c0c0c0; text-decoration-color: #c0c0c0\">       10 </span>│<span style=\"color: #008000; text-decoration-color: #008000\">       10 </span>│\n",
       "└───────────────────┴──────────┴──────────┘\n",
       "</pre>\n"
      ],
      "text/plain": [
       "\u001b[3m               Unique Counts               \u001b[0m\n",
       "┏━━━━━━━━━━━━━━━━━━━┳━━━━━━━━━━┳━━━━━━━━━━┓\n",
       "┃\u001b[1m \u001b[0m\u001b[1m         Category\u001b[0m\u001b[1m \u001b[0m┃\u001b[1m \u001b[0m\u001b[1mOld Data\u001b[0m\u001b[1m \u001b[0m┃\u001b[1m \u001b[0m\u001b[1mNew Data\u001b[0m\u001b[1m \u001b[0m┃\n",
       "┡━━━━━━━━━━━━━━━━━━━╇━━━━━━━━━━╇━━━━━━━━━━┩\n",
       "│\u001b[36m \u001b[0m\u001b[36m       Total Rows\u001b[0m\u001b[36m \u001b[0m│\u001b[37m \u001b[0m\u001b[37m     988\u001b[0m\u001b[37m \u001b[0m│\u001b[32m \u001b[0m\u001b[32m     964\u001b[0m\u001b[32m \u001b[0m│\n",
       "│\u001b[36m \u001b[0m\u001b[36m  Unique Patients\u001b[0m\u001b[36m \u001b[0m│\u001b[37m \u001b[0m\u001b[37m     195\u001b[0m\u001b[37m \u001b[0m│\u001b[32m \u001b[0m\u001b[32m     195\u001b[0m\u001b[32m \u001b[0m│\n",
       "│\u001b[36m \u001b[0m\u001b[36m   Unique Studies\u001b[0m\u001b[36m \u001b[0m│\u001b[37m \u001b[0m\u001b[37m     278\u001b[0m\u001b[37m \u001b[0m│\u001b[32m \u001b[0m\u001b[32m     278\u001b[0m\u001b[32m \u001b[0m│\n",
       "│\u001b[36m \u001b[0m\u001b[36m    Unique Series\u001b[0m\u001b[36m \u001b[0m│\u001b[37m \u001b[0m\u001b[37m     964\u001b[0m\u001b[37m \u001b[0m│\u001b[32m \u001b[0m\u001b[32m     964\u001b[0m\u001b[32m \u001b[0m│\n",
       "│\u001b[36m \u001b[0m\u001b[36mUnique Modalities\u001b[0m\u001b[36m \u001b[0m│\u001b[37m \u001b[0m\u001b[37m      10\u001b[0m\u001b[37m \u001b[0m│\u001b[32m \u001b[0m\u001b[32m      10\u001b[0m\u001b[32m \u001b[0m│\n",
       "└───────────────────┴──────────┴──────────┘\n"
      ]
     },
     "metadata": {},
     "output_type": "display_data"
    }
   ],
   "source": [
    "from rich.console import Console\n",
    "from rich.table import Table\n",
    "\n",
    "# uniques = old.value_counts(['patient_ID', 'series', 'modality'])\n",
    "console = Console()\n",
    "\n",
    "table = Table(title=\"Unique Counts\")\n",
    "\n",
    "table.add_column(\"Category\", justify=\"right\", style=\"cyan\", no_wrap=True)\n",
    "table.add_column(\"Old Data\", justify=\"right\", style=\"white\")\n",
    "table.add_column(\"New Data\", justify=\"right\", style=\"green\")\n",
    "\n",
    "table.add_row(\"Total Rows\", str(old.shape[0]), str(new.shape[0]))\n",
    "table.add_row(\"Unique Patients\", str(old['patient_ID'].nunique()), str(new['PatientID'].nunique()))\n",
    "table.add_row(\"Unique Studies\", str(old['study'].nunique()), str(new['StudyInstanceUID'].nunique()))\n",
    "table.add_row(\"Unique Series\", str(old['series'].nunique()), str(new['SeriesInstanceUID'].nunique()))\n",
    "table.add_row(\"Unique Modalities\", str(old['modality'].nunique()), str(new['Modality'].nunique()))\n",
    "\n",
    "console.print(table)"
   ]
  }
 ],
 "metadata": {
  "kernelspec": {
   "display_name": "dev",
   "language": "python",
   "name": "python3"
  },
  "language_info": {
   "codemirror_mode": {
    "name": "ipython",
    "version": 3
   },
   "file_extension": ".py",
   "mimetype": "text/x-python",
   "name": "python",
   "nbconvert_exporter": "python",
   "pygments_lexer": "ipython3",
   "version": "3.12.8"
  }
 },
 "nbformat": 4,
 "nbformat_minor": 2
}
