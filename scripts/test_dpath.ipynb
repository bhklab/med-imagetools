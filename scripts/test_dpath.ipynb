{
 "cells": [
  {
   "cell_type": "code",
   "execution_count": 1,
   "metadata": {},
   "outputs": [],
   "source": [
    "from pathlib import Path\n",
    "\n",
    "import dpath\n",
    "\n",
    "from imgtools.dicom import find_dicoms"
   ]
  },
  {
   "cell_type": "code",
   "execution_count": 6,
   "metadata": {},
   "outputs": [],
   "source": [
    "import json\n",
    "import logging\n",
    "import os\n",
    "import pathlib\n",
    "import time\n",
    "import typing as t\n",
    "from collections import defaultdict\n",
    "\n",
    "import click\n",
    "import pandas as pd\n",
    "from joblib import Parallel, delayed  # type: ignore\n",
    "from pydicom import dcmread\n",
    "from pydicom.errors import InvalidDicomError\n",
    "from tqdm import tqdm\n",
    "from tqdm.contrib.logging import logging_redirect_tqdm  # type: ignore\n",
    "\n",
    "from imgtools.dicom import find_dicoms\n",
    "from imgtools.dicom.input import rtstruct_reference_uids\n",
    "from imgtools.logging import logger\n",
    "\n",
    "TAGS_OF_INTEREST = [\n",
    "    \"PatientID\",\n",
    "    \"StudyInstanceUID\",\n",
    "    \"SeriesInstanceUID\",\n",
    "    \"SOPInstanceUID\",\n",
    "    \"Modality\",\n",
    "]\n",
    "\n",
    "\n",
    "# A lightweight subclass of dict that allows for attribute access\n",
    "class AttrDict(dict):\n",
    "    def __getattr__(self, key: str) -> str | list:\n",
    "        return self[key]\n",
    "\n",
    "    def __setattr__(self, key: str, value: str | list) -> None:\n",
    "        self[key] = value\n",
    "\n"
   ]
  },
  {
   "cell_type": "code",
   "execution_count": 8,
   "metadata": {},
   "outputs": [
    {
     "name": "stderr",
     "output_type": "stream",
     "text": [
      "\u001b[2m2025-02-26T21:11:48-0500\u001b[0m [\u001b[32m\u001b[1mdebug    \u001b[0m] \u001b[1mLooking for DICOM files       \u001b[0m [\u001b[0m\u001b[1m\u001b[34mimgtools\u001b[0m]\u001b[0m \u001b[36mcall\u001b[0m=\u001b[35mutils.find_dicoms:161\u001b[0m \u001b[36mcheck_header\u001b[0m=\u001b[35mFalse\u001b[0m \u001b[36mdirectory\u001b[0m=\u001b[35mPosixPath('/home/bioinf/bhklab/radiomics/Projects/med-imagetools/TRASH/HEAD/HNPC')\u001b[0m \u001b[36mlimit\u001b[0m=\u001b[35mNone\u001b[0m \u001b[36mrecursive\u001b[0m=\u001b[35mTrue\u001b[0m \u001b[36msearch_input\u001b[0m=\u001b[35mNone\u001b[0m \u001b[36msearch_pattern\u001b[0m=\u001b[35m*\u001b[0m\n"
     ]
    },
    {
     "data": {
      "text/plain": [
       "391"
      ]
     },
     "execution_count": 8,
     "metadata": {},
     "output_type": "execute_result"
    }
   ],
   "source": [
    "dirpath = Path().cwd().parent / 'TRASH/HEAD/HNPC'\n",
    "\n",
    "dcms = find_dicoms(dirpath, recursive=True, check_header=False)\n",
    "len(dcms)\n"
   ]
  },
  {
   "cell_type": "code",
   "execution_count": 14,
   "metadata": {},
   "outputs": [
    {
     "data": {
      "text/plain": [
       "{'PatientID': 'HN-CHUS-052',\n",
       " 'StudyInstanceUID': '1.3.6.1.4.1.14519.5.2.1.5168.2407.270192284011074135763414694629',\n",
       " 'SeriesInstanceUID': '1.3.6.1.4.1.14519.5.2.1.5168.2407.259673657557881696121957341418',\n",
       " 'SOPInstanceUID': '1.3.6.1.4.1.14519.5.2.1.5168.2407.196238472009303016456632231933',\n",
       " 'Modality': 'RTSTRUCT',\n",
       " 'filepath': PosixPath('/home/bioinf/bhklab/radiomics/Projects/med-imagetools/TRASH/HEAD/HNPC/RTSTRUCT_Series-41418/1-1.dcm'),\n",
       " 'ReferencedSeriesUID': '1.3.6.1.4.1.14519.5.2.1.5168.2407.316675519384816522302881406362'}"
      ]
     },
     "execution_count": 14,
     "metadata": {},
     "output_type": "execute_result"
    }
   ],
   "source": [
    "\n",
    "def parse_dicom(dcm_path: str) -> t.Dict:\n",
    "    try:\n",
    "        dcm = dcmread(\n",
    "            dcm_path,\n",
    "            force=True,\n",
    "            stop_before_pixels=True,\n",
    "        )\n",
    "    except InvalidDicomError as e:\n",
    "        logger.error(f\"Error reading {dcm_path}: {e}\")\n",
    "        raise\n",
    "\n",
    "    meta = AttrDict({tag: str(dcm.get(tag)) for tag in TAGS_OF_INTEREST})\n",
    "    meta.filepath = dcm_path\n",
    "    match meta[\"Modality\"]:\n",
    "        case \"SEG\":\n",
    "            try:\n",
    "                ref_series = dcm.ReferencedSeriesSequence[0].SeriesInstanceUID\n",
    "                meta.ReferencedSeriesUID = ref_series\n",
    "            except AttributeError:\n",
    "                ref_seg_instance = dcm.SourceImageSequence[\n",
    "                    0\n",
    "                ].ReferencedSOPInstanceUID\n",
    "                meta.ReferencedSOPInstanceUID = ref_seg_instance\n",
    "        case \"RTSTRUCT\":\n",
    "            ref_series, _ = rtstruct_reference_uids(dcm)\n",
    "            meta.ReferencedSeriesUID = ref_series\n",
    "\n",
    "        # For RTPLAN and RTDOSE, we store the same id Twice, for debugging, but we will\n",
    "        # only use the common `ReferencedSOPInstanceUID` (also used in SEG)\n",
    "        case \"RTPLAN\":\n",
    "            ref_struct = dcm.ReferencedStructureSetSequence[\n",
    "                0\n",
    "            ].ReferencedSOPInstanceUID\n",
    "            meta.ReferencedRTStructInstanceUID = ref_struct\n",
    "            meta.ReferencedSOPInstanceUID = ref_struct\n",
    "        case \"RTDOSE\":\n",
    "            ref_plan = dcm.ReferencedRTPlanSequence[0].ReferencedSOPInstanceUID\n",
    "            meta.ReferencedRTPlanInstanceUID = ref_plan\n",
    "            meta.ReferencedSOPInstanceUID = ref_plan\n",
    "        case \"SR\":\n",
    "            if sr_seq := getattr(\n",
    "                dcm, \"CurrentRequestedProcedureEvidenceSequence\", None\n",
    "            ):\n",
    "                ref_series = {\n",
    "                    sr.ReferencedSeriesSequence[0].SeriesInstanceUID\n",
    "                    for sr in sr_seq\n",
    "                }\n",
    "                meta.ReferencedSeriesUID = list(ref_series)\n",
    "        case _:\n",
    "            pass\n",
    "\n",
    "    return meta\n",
    "for dcm in dcms:\n",
    "    result = parse_dicom(dcm)\n",
    "    break\n",
    "\n",
    "result"
   ]
  },
  {
   "cell_type": "code",
   "execution_count": 26,
   "metadata": {},
   "outputs": [
    {
     "data": {
      "text/html": [
       "<pre style=\"white-space:pre;overflow-x:auto;line-height:normal;font-family:Menlo,'DejaVu Sans Mono',consolas,'Courier New',monospace\"><span style=\"font-weight: bold\">{</span>\n",
       "    <span style=\"color: #008000; text-decoration-color: #008000\">'HN-CHUS-052'</span>: <span style=\"font-weight: bold\">{</span>\n",
       "        <span style=\"color: #008000; text-decoration-color: #008000\">'1.3.6.1.4.1.14519.5.2.1.5168.2407.270192284011074135763414694629'</span>: <span style=\"font-weight: bold\">{</span>\n",
       "            <span style=\"color: #008000; text-decoration-color: #008000\">'1.3.6.1.4.1.14519.5.2.1.5168.2407.259673657557881696121957341418'</span>: <span style=\"font-weight: bold\">{</span>\n",
       "                <span style=\"color: #008000; text-decoration-color: #008000\">'1.3.6.1.4.1.14519.5.2.1.5168.2407.196238472009303016456632231933'</span>: <span style=\"font-weight: bold\">{</span>\n",
       "                    <span style=\"color: #008000; text-decoration-color: #008000\">'RTSTRUCT'</span>: <span style=\"font-weight: bold\">{</span>\n",
       "                        <span style=\"color: #008000; text-decoration-color: #008000\">'/home/bioinf/bhklab/radiomics/Projects/med-imagetools/TRASH/HEAD/HNPC/RTSTRUCT_Series-4141</span>\n",
       "<span style=\"color: #008000; text-decoration-color: #008000\">8/1-1.dcm'</span>: <span style=\"font-weight: bold\">{</span>\n",
       "                            <span style=\"color: #008000; text-decoration-color: #008000\">'1.3.6.1.4.1.14519.5.2.1.5168.2407.316675519384816522302881406362'</span>: <span style=\"color: #008000; text-decoration-color: #008000\">'HI'</span>\n",
       "                        <span style=\"font-weight: bold\">}</span>\n",
       "                    <span style=\"font-weight: bold\">}</span>\n",
       "                <span style=\"font-weight: bold\">}</span>\n",
       "            <span style=\"font-weight: bold\">}</span>\n",
       "        <span style=\"font-weight: bold\">}</span>\n",
       "    <span style=\"font-weight: bold\">}</span>\n",
       "<span style=\"font-weight: bold\">}</span>\n",
       "</pre>\n"
      ],
      "text/plain": [
       "\u001b[1m{\u001b[0m\n",
       "    \u001b[32m'HN-CHUS-052'\u001b[0m: \u001b[1m{\u001b[0m\n",
       "        \u001b[32m'1.3.6.1.4.1.14519.5.2.1.5168.2407.270192284011074135763414694629'\u001b[0m: \u001b[1m{\u001b[0m\n",
       "            \u001b[32m'1.3.6.1.4.1.14519.5.2.1.5168.2407.259673657557881696121957341418'\u001b[0m: \u001b[1m{\u001b[0m\n",
       "                \u001b[32m'1.3.6.1.4.1.14519.5.2.1.5168.2407.196238472009303016456632231933'\u001b[0m: \u001b[1m{\u001b[0m\n",
       "                    \u001b[32m'RTSTRUCT'\u001b[0m: \u001b[1m{\u001b[0m\n",
       "                        \u001b[32m'/home/bioinf/bhklab/radiomics/Projects/med-imagetools/TRASH/HEAD/HNPC/RTSTRUCT_Series-4141\u001b[0m\n",
       "\u001b[32m8/1-1.dcm'\u001b[0m: \u001b[1m{\u001b[0m\n",
       "                            \u001b[32m'1.3.6.1.4.1.14519.5.2.1.5168.2407.316675519384816522302881406362'\u001b[0m: \u001b[32m'HI'\u001b[0m\n",
       "                        \u001b[1m}\u001b[0m\n",
       "                    \u001b[1m}\u001b[0m\n",
       "                \u001b[1m}\u001b[0m\n",
       "            \u001b[1m}\u001b[0m\n",
       "        \u001b[1m}\u001b[0m\n",
       "    \u001b[1m}\u001b[0m\n",
       "\u001b[1m}\u001b[0m\n"
      ]
     },
     "metadata": {},
     "output_type": "display_data"
    }
   ],
   "source": [
    "x = {}\n",
    "from rich import print\n",
    "print(dpath.new(x, \"|\".join([str(x) for x in result.values()]),'HI',separator=\"|\"))"
   ]
  },
  {
   "cell_type": "code",
   "execution_count": null,
   "metadata": {},
   "outputs": [],
   "source": []
  }
 ],
 "metadata": {
  "kernelspec": {
   "display_name": "dev",
   "language": "python",
   "name": "python3"
  },
  "language_info": {
   "codemirror_mode": {
    "name": "ipython",
    "version": 3
   },
   "file_extension": ".py",
   "mimetype": "text/x-python",
   "name": "python",
   "nbconvert_exporter": "python",
   "pygments_lexer": "ipython3",
   "version": "3.12.8"
  }
 },
 "nbformat": 4,
 "nbformat_minor": 2
}
