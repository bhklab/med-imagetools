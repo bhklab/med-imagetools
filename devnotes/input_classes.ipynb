{
 "cells": [
  {
   "cell_type": "code",
   "execution_count": 11,
   "metadata": {},
   "outputs": [],
   "source": [
    "%load_ext autoreload\n",
    "%autoreload 2\n",
    "from functools import partial\n",
    "from pathlib import Path\n",
    "\n",
    "from rich import print  # noqa\n",
    "\n",
    "from imgtools.io import read_dicom_auto, read_dicom_rtstruct\n",
    "from imgtools.logging import logger\n",
    "from imgtools.ops import ImageAutoInput\n",
    "\n",
    "logger.setLevel(\"DEBUG\") # type: ignore\n"
   ]
  },
  {
   "cell_type": "code",
   "execution_count": 12,
   "metadata": {},
   "outputs": [],
   "source": [
    "input_dir = Path('/home/jermiah/bhklab/radiomics/repos/med-imagetools/data/Head-Neck-PET-CT')"
   ]
  },
  {
   "cell_type": "code",
   "execution_count": 13,
   "metadata": {},
   "outputs": [
    {
     "name": "stderr",
     "output_type": "stream",
     "text": [
      "\u001b[2m2025-02-07T16:25:54-0500\u001b[0m [\u001b[33m\u001b[1mwarning  \u001b[0m] \u001b[1mThe dataset has already been indexed. Use --update to force update.\u001b[0m [\u001b[0m\u001b[1m\u001b[34mimgtools\u001b[0m]\u001b[0m \u001b[36mcall\u001b[0m=\u001b[35mops.__init__:174\u001b[0m\n",
      "\u001b[2m2025-02-07T16:25:54-0500\u001b[0m [\u001b[32m\u001b[1mdebug    \u001b[0m] \u001b[1mCreating edge path            \u001b[0m [\u001b[0m\u001b[1m\u001b[34mimgtools\u001b[0m]\u001b[0m \u001b[36mcall\u001b[0m=\u001b[35mops.__init__:181\u001b[0m \u001b[36medge_path\u001b[0m=\u001b[35mPosixPath('/home/jermiah/bhklab/radiomics/repos/med-imagetools/data/.imgtools/imgtools_Head-Neck-PET-CT_edges.csv')\u001b[0m\n",
      "\u001b[2m2025-02-07T16:25:54-0500\u001b[0m [\u001b[32m\u001b[1minfo     \u001b[0m] \u001b[1mEdge table is already present. Loading the data...\u001b[0m [\u001b[0m\u001b[1m\u001b[34mimgtools\u001b[0m]\u001b[0m \u001b[36mcall\u001b[0m=\u001b[35mdatagraph.__init__:63\u001b[0m\n",
      "\u001b[2m2025-02-07T16:25:54-0500\u001b[0m [\u001b[32m\u001b[1minfo     \u001b[0m] \u001b[1mForming the graph based on the given modalities: ['CT', 'RTSTRUCT']\u001b[0m [\u001b[0m\u001b[1m\u001b[34mimgtools\u001b[0m]\u001b[0m \u001b[36mcall\u001b[0m=\u001b[35mops.__init__:188\u001b[0m\n",
      "\u001b[2m2025-02-07T16:25:54-0500\u001b[0m [\u001b[32m\u001b[1minfo     \u001b[0m] \u001b[1mThere are 2 cases containing all ['CT', 'RTSTRUCT'] modalities.\u001b[0m [\u001b[0m\u001b[1m\u001b[34mimgtools\u001b[0m]\u001b[0m \u001b[36mcall\u001b[0m=\u001b[35mops.__init__:210\u001b[0m\n",
      "\u001b[2m2025-02-07T16:25:54-0500\u001b[0m [\u001b[32m\u001b[1minfo     \u001b[0m] \u001b[1mTotal time taken: 0.02 seconds\u001b[0m [\u001b[0m\u001b[1m\u001b[34mimgtools\u001b[0m]\u001b[0m \u001b[36mcall\u001b[0m=\u001b[35mops.__init__:219\u001b[0m\n",
      "\u001b[2m2025-02-07T16:25:54-0500\u001b[0m [\u001b[32m\u001b[1mdebug    \u001b[0m] \u001b[1mTuple names: ['CT', 'RTSTRUCT']\u001b[0m [\u001b[0m\u001b[1m\u001b[34mimgtools\u001b[0m]\u001b[0m \u001b[36mcall\u001b[0m=\u001b[35mold_loaders.__init__:350\u001b[0m\n"
     ]
    }
   ],
   "source": [
    "read_rt = partial(read_dicom_rtstruct,suppress_warnings=True)\n",
    "read_img = read_dicom_auto\n",
    "readers = [read_img, read_rt]\n",
    "img_input = ImageAutoInput(input_dir, modalities=['CT', 'RTSTRUCT'], update = False, readers=readers)\n"
   ]
  },
  {
   "cell_type": "code",
   "execution_count": 14,
   "metadata": {},
   "outputs": [
    {
     "data": {
      "text/plain": [
       "['CT', 'RTSTRUCT_CT']"
      ]
     },
     "execution_count": 14,
     "metadata": {},
     "output_type": "execute_result"
    }
   ],
   "source": [
    "img_input.output_streams"
   ]
  },
  {
   "cell_type": "code",
   "execution_count": 15,
   "metadata": {},
   "outputs": [
    {
     "data": {
      "text/plain": [
       "['0_HN-CHUS-052', '1_HN-CHUS-082']"
      ]
     },
     "execution_count": 15,
     "metadata": {},
     "output_type": "execute_result"
    }
   ],
   "source": [
    "img_input.keys()"
   ]
  },
  {
   "cell_type": "code",
   "execution_count": 16,
   "metadata": {},
   "outputs": [],
   "source": [
    "itp = img_input('0_HN-CHUS-052')"
   ]
  },
  {
   "cell_type": "code",
   "execution_count": 17,
   "metadata": {},
   "outputs": [
    {
     "data": {
      "text/plain": [
       "Output(CT=Scan<DataCollectionDiameter=500\n",
       "SliceThickness=3.00\n",
       "PatientPosition=HFS\n",
       "Manufacturer=Philips\n",
       "ScanOptions=HELIX\n",
       "RescaleSlope=1\n",
       "ManufacturerModelName=GeminiGXL 16\n",
       "PixelSize=('1.171875', '1.171875', '3.00')\n",
       "KVP=140\n",
       "XRayTubeCurrent=394\n",
       "ReconstructionDiameter=600\n",
       "ConvolutionKernel=C, size=(512, 512, 132)\n",
       "spacing=(1.171875, 1.171875, 3.0)\n",
       "origin=(-300.0, -230.0, -462.5)\n",
       "direction=(1.0, 0.0, 0.0, 0.0, 1.0, 0.0, 0.0, 0.0, -1.0)>, RTSTRUCT=\n",
       "<StructureSet\n",
       "\tROIs: ['CERVEAU', 'CERVEAU-', 'CHIASMA', 'CONF PTV1', 'CONF PTV2', 'CONF PTV3', 'CONF_E PTV1', 'CONF_E PTV2', 'CONF_E PTV3', 'CONF_I PTV1', 'CONF_I PTV2', 'CONF_I PTV3', 'COU SAIN', 'CRISTAL D', 'CRISTAL G', 'CTV 70', 'CTV GANGLION 56', 'EXTERNE', 'GTV1', 'GTV2 GG', 'IsoCT', 'Isocentre', 'LARYNX', 'LR-', 'MAND-', 'MANDIBULES', 'MARQUEURS', 'MENTON', 'MOELLE', 'NOD', 'NOG', 'OEIL D', 'OEIL G', 'PAR- D', 'PAR- G', 'PAROTIDE D', 'PAROTIDE G', 'PATCH', 'PEAU', 'POUMONS', 'POUMONS -PTV', 'PRV CHIASMA', 'PRV MOELLE', 'PRV NOD', 'PRV NOG', 'PRV TRONC', 'PTV 2 GGmd', 'PTV 56md', 'PTV 70md', 'PTV1', 'PTV1 TR2', 'PTV1 TR3', 'PTV1 XTR', 'PTV1-', 'PTV2', 'PTV2 TR3', 'PTV2-', 'PTV3', 'RAR CAV BUCC', 'RAR LARYNX', 'RAR OREILLE D', 'RAR OREILLE G', 'RAR- CB', 'RAR- LR', 'RAR- OR D', 'RAR- OR G', 'TISSUS SAINS', 'TRONC', 'c1-PTV3', 'f1-CTV1', 'f1-GTV1', 'f1-PTV1', 'f1-PTV3', 'f1b-PTV1', 'f1b-PTV3', 'f2-PTV1', 'f2-PTV3', 'f2b-PTV1', 'f3-PTV1', 'f3b-PTV1']\n",
       "\tMetadata:\n",
       "\t\tPatientID: HN-CHUS-052\n",
       "\t\tStudyInstanceUID: 94629 (truncated)\n",
       "\t\tSeriesInstanceUID: 41418 (truncated)\n",
       "\t\tModality: RTSTRUCT\n",
       "\t\tReferencedSeriesInstanceUID: 06362 (truncated)\n",
       "\t\tOriginalNumberOfROIs: 105\n",
       "\t\tExtractedNumberOfROIs: 80\n",
       ">)"
      ]
     },
     "execution_count": 17,
     "metadata": {},
     "output_type": "execute_result"
    }
   ],
   "source": [
    "itp"
   ]
  },
  {
   "cell_type": "code",
   "execution_count": 18,
   "metadata": {},
   "outputs": [
    {
     "data": {
      "text/html": [
       "<pre style=\"white-space:pre;overflow-x:auto;line-height:normal;font-family:Menlo,'DejaVu Sans Mono',consolas,'Courier New',monospace\">Types: <span style=\"color: #800080; text-decoration-color: #800080; font-weight: bold\">type</span><span style=\"font-weight: bold\">(</span>img<span style=\"font-weight: bold\">)</span>=<span style=\"font-weight: bold\">&lt;</span><span style=\"color: #ff00ff; text-decoration-color: #ff00ff; font-weight: bold\">class</span><span style=\"color: #000000; text-decoration-color: #000000\"> </span><span style=\"color: #008000; text-decoration-color: #008000\">'imgtools.modules.scan.Scan'</span><span style=\"color: #000000; text-decoration-color: #000000\">&gt;, </span><span style=\"color: #800080; text-decoration-color: #800080; font-weight: bold\">type</span><span style=\"color: #000000; text-decoration-color: #000000; font-weight: bold\">(</span><span style=\"color: #000000; text-decoration-color: #000000\">mask</span><span style=\"color: #000000; text-decoration-color: #000000; font-weight: bold\">)</span><span style=\"color: #000000; text-decoration-color: #000000\">=&lt;class </span>\n",
       "<span style=\"color: #008000; text-decoration-color: #008000\">'imgtools.modules.structureset.StructureSet'</span><span style=\"font-weight: bold\">&gt;</span>\n",
       "</pre>\n"
      ],
      "text/plain": [
       "Types: \u001b[1;35mtype\u001b[0m\u001b[1m(\u001b[0mimg\u001b[1m)\u001b[0m=\u001b[1m<\u001b[0m\u001b[1;95mclass\u001b[0m\u001b[39m \u001b[0m\u001b[32m'imgtools.modules.scan.Scan'\u001b[0m\u001b[39m>, \u001b[0m\u001b[1;35mtype\u001b[0m\u001b[1;39m(\u001b[0m\u001b[39mmask\u001b[0m\u001b[1;39m)\u001b[0m\u001b[39m=<class \u001b[0m\n",
       "\u001b[32m'imgtools.modules.structureset.StructureSet'\u001b[0m\u001b[1m>\u001b[0m\n"
      ]
     },
     "metadata": {},
     "output_type": "display_data"
    }
   ],
   "source": [
    "img, mask = itp['CT'], itp['RTSTRUCT']\n",
    "print(f\"Types: {type(img)=}, {type(mask)=}\")"
   ]
  },
  {
   "cell_type": "markdown",
   "metadata": {},
   "source": [
    "# To Segmentation \n",
    "\n",
    "## By default, get all ROIs"
   ]
  },
  {
   "cell_type": "code",
   "execution_count": 19,
   "metadata": {},
   "outputs": [
    {
     "name": "stderr",
     "output_type": "stream",
     "text": [
      "\u001b[2m2025-02-07T16:25:59-0500\u001b[0m [\u001b[32m\u001b[1mdebug    \u001b[0m] \u001b[1mFound 80 labels               \u001b[0m [\u001b[0m\u001b[1m\u001b[34mimgtools\u001b[0m]\u001b[0m \u001b[36mcall\u001b[0m=\u001b[35mstructureset.to_segmentation:653\u001b[0m \u001b[36mlabels\u001b[0m=\u001b[35m{'CERVEAU': 0, 'CERVEAU-': 1, 'CHIASMA': 2, 'CONF PTV1': 3, 'CONF PTV2': 4, 'CONF PTV3': 5, 'CONF_E PTV1': 6, 'CONF_E PTV2': 7, 'CONF_E PTV3': 8, 'CONF_I PTV1': 9, 'CONF_I PTV2': 10, 'CONF_I PTV3': 11, 'COU SAIN': 12, 'CRISTAL D': 13, 'CRISTAL G': 14, 'CTV 70': 15, 'CTV GANGLION 56': 16, 'EXTERNE': 17, 'GTV1': 18, 'GTV2 GG': 19, 'IsoCT': 20, 'Isocentre': 21, 'LARYNX': 22, 'LR-': 23, 'MAND-': 24, 'MANDIBULES': 25, 'MARQUEURS': 26, 'MENTON': 27, 'MOELLE': 28, 'NOD': 29, 'NOG': 30, 'OEIL D': 31, 'OEIL G': 32, 'PAR- D': 33, 'PAR- G': 34, 'PAROTIDE D': 35, 'PAROTIDE G': 36, 'PATCH': 37, 'PEAU': 38, 'POUMONS': 39, 'POUMONS -PTV': 40, 'PRV CHIASMA': 41, 'PRV MOELLE': 42, 'PRV NOD': 43, 'PRV NOG': 44, 'PRV TRONC': 45, 'PTV 2 GGmd': 46, 'PTV 56md': 47, 'PTV 70md': 48, 'PTV1': 49, 'PTV1 TR2': 50, 'PTV1 TR3': 51, 'PTV1 XTR': 52, 'PTV1-': 53, 'PTV2': 54, 'PTV2 TR3': 55, 'PTV2-': 56, 'PTV3': 57, 'RAR CAV BUCC': 58, 'RAR LARYNX': 59, 'RAR OREILLE D': 60, 'RAR OREILLE G': 61, 'RAR- CB': 62, 'RAR- LR': 63, 'RAR- OR D': 64, 'RAR- OR G': 65, 'TISSUS SAINS': 66, 'TRONC': 67, 'c1-PTV3': 68, 'f1-CTV1': 69, 'f1-GTV1': 70, 'f1-PTV1': 71, 'f1-PTV3': 72, 'f1b-PTV1': 73, 'f1b-PTV3': 74, 'f2-PTV1': 75, 'f2-PTV3': 76, 'f2b-PTV1': 77, 'f3-PTV1': 78, 'f3b-PTV1': 79}\u001b[0m\n"
     ]
    },
    {
     "data": {
      "text/html": [
       "<pre style=\"white-space:pre;overflow-x:auto;line-height:normal;font-family:Menlo,'DejaVu Sans Mono',consolas,'Courier New',monospace\"><span style=\"color: #800080; text-decoration-color: #800080; font-weight: bold\">seg.GetNumberOfComponentsPerPixel</span><span style=\"font-weight: bold\">()</span>=<span style=\"color: #008080; text-decoration-color: #008080; font-weight: bold\">80</span>\n",
       "</pre>\n"
      ],
      "text/plain": [
       "\u001b[1;35mseg.GetNumberOfComponentsPerPixel\u001b[0m\u001b[1m(\u001b[0m\u001b[1m)\u001b[0m=\u001b[1;36m80\u001b[0m\n"
      ]
     },
     "metadata": {},
     "output_type": "display_data"
    },
    {
     "data": {
      "text/html": [
       "<pre style=\"white-space:pre;overflow-x:auto;line-height:normal;font-family:Menlo,'DejaVu Sans Mono',consolas,'Courier New',monospace\"><span style=\"color: #800080; text-decoration-color: #800080; font-weight: bold\">seg.GetNumberOfPixels</span><span style=\"font-weight: bold\">()</span>=<span style=\"color: #008080; text-decoration-color: #008080; font-weight: bold\">34603008</span>\n",
       "</pre>\n"
      ],
      "text/plain": [
       "\u001b[1;35mseg.GetNumberOfPixels\u001b[0m\u001b[1m(\u001b[0m\u001b[1m)\u001b[0m=\u001b[1;36m34603008\u001b[0m\n"
      ]
     },
     "metadata": {},
     "output_type": "display_data"
    },
    {
     "data": {
      "text/html": [
       "<pre style=\"white-space:pre;overflow-x:auto;line-height:normal;font-family:Menlo,'DejaVu Sans Mono',consolas,'Courier New',monospace\"><span style=\"color: #800080; text-decoration-color: #800080; font-weight: bold\">seg.GetPixel</span><span style=\"font-weight: bold\">(</span><span style=\"color: #008080; text-decoration-color: #008080; font-weight: bold\">0</span>,<span style=\"color: #008080; text-decoration-color: #008080; font-weight: bold\">0</span>,<span style=\"color: #008080; text-decoration-color: #008080; font-weight: bold\">0</span><span style=\"font-weight: bold\">)</span>=<span style=\"font-weight: bold\">(</span><span style=\"color: #008080; text-decoration-color: #008080; font-weight: bold\">0</span>, <span style=\"color: #008080; text-decoration-color: #008080; font-weight: bold\">0</span>, <span style=\"color: #008080; text-decoration-color: #008080; font-weight: bold\">0</span>, <span style=\"color: #008080; text-decoration-color: #008080; font-weight: bold\">0</span>, <span style=\"color: #008080; text-decoration-color: #008080; font-weight: bold\">0</span>, <span style=\"color: #008080; text-decoration-color: #008080; font-weight: bold\">0</span>, <span style=\"color: #008080; text-decoration-color: #008080; font-weight: bold\">0</span>, <span style=\"color: #008080; text-decoration-color: #008080; font-weight: bold\">0</span>, <span style=\"color: #008080; text-decoration-color: #008080; font-weight: bold\">0</span>, <span style=\"color: #008080; text-decoration-color: #008080; font-weight: bold\">0</span>, <span style=\"color: #008080; text-decoration-color: #008080; font-weight: bold\">0</span>, <span style=\"color: #008080; text-decoration-color: #008080; font-weight: bold\">0</span>, <span style=\"color: #008080; text-decoration-color: #008080; font-weight: bold\">0</span>, <span style=\"color: #008080; text-decoration-color: #008080; font-weight: bold\">0</span>, <span style=\"color: #008080; text-decoration-color: #008080; font-weight: bold\">0</span>, <span style=\"color: #008080; text-decoration-color: #008080; font-weight: bold\">0</span>, <span style=\"color: #008080; text-decoration-color: #008080; font-weight: bold\">0</span>, <span style=\"color: #008080; text-decoration-color: #008080; font-weight: bold\">0</span>, <span style=\"color: #008080; text-decoration-color: #008080; font-weight: bold\">0</span>, <span style=\"color: #008080; text-decoration-color: #008080; font-weight: bold\">0</span>, <span style=\"color: #008080; text-decoration-color: #008080; font-weight: bold\">0</span>, <span style=\"color: #008080; text-decoration-color: #008080; font-weight: bold\">0</span>, <span style=\"color: #008080; text-decoration-color: #008080; font-weight: bold\">0</span>, <span style=\"color: #008080; text-decoration-color: #008080; font-weight: bold\">0</span>, <span style=\"color: #008080; text-decoration-color: #008080; font-weight: bold\">0</span>, <span style=\"color: #008080; text-decoration-color: #008080; font-weight: bold\">0</span>, <span style=\"color: #008080; text-decoration-color: #008080; font-weight: bold\">0</span>, <span style=\"color: #008080; text-decoration-color: #008080; font-weight: bold\">0</span>, <span style=\"color: #008080; text-decoration-color: #008080; font-weight: bold\">0</span>, <span style=\"color: #008080; text-decoration-color: #008080; font-weight: bold\">0</span>, <span style=\"color: #008080; text-decoration-color: #008080; font-weight: bold\">0</span>, \n",
       "<span style=\"color: #008080; text-decoration-color: #008080; font-weight: bold\">0</span>, <span style=\"color: #008080; text-decoration-color: #008080; font-weight: bold\">0</span>, <span style=\"color: #008080; text-decoration-color: #008080; font-weight: bold\">0</span>, <span style=\"color: #008080; text-decoration-color: #008080; font-weight: bold\">0</span>, <span style=\"color: #008080; text-decoration-color: #008080; font-weight: bold\">0</span>, <span style=\"color: #008080; text-decoration-color: #008080; font-weight: bold\">0</span>, <span style=\"color: #008080; text-decoration-color: #008080; font-weight: bold\">0</span>, <span style=\"color: #008080; text-decoration-color: #008080; font-weight: bold\">0</span>, <span style=\"color: #008080; text-decoration-color: #008080; font-weight: bold\">0</span>, <span style=\"color: #008080; text-decoration-color: #008080; font-weight: bold\">0</span>, <span style=\"color: #008080; text-decoration-color: #008080; font-weight: bold\">0</span>, <span style=\"color: #008080; text-decoration-color: #008080; font-weight: bold\">0</span>, <span style=\"color: #008080; text-decoration-color: #008080; font-weight: bold\">0</span>, <span style=\"color: #008080; text-decoration-color: #008080; font-weight: bold\">0</span>, <span style=\"color: #008080; text-decoration-color: #008080; font-weight: bold\">0</span>, <span style=\"color: #008080; text-decoration-color: #008080; font-weight: bold\">0</span>, <span style=\"color: #008080; text-decoration-color: #008080; font-weight: bold\">0</span>, <span style=\"color: #008080; text-decoration-color: #008080; font-weight: bold\">0</span>, <span style=\"color: #008080; text-decoration-color: #008080; font-weight: bold\">0</span>, <span style=\"color: #008080; text-decoration-color: #008080; font-weight: bold\">0</span>, <span style=\"color: #008080; text-decoration-color: #008080; font-weight: bold\">0</span>, <span style=\"color: #008080; text-decoration-color: #008080; font-weight: bold\">0</span>, <span style=\"color: #008080; text-decoration-color: #008080; font-weight: bold\">0</span>, <span style=\"color: #008080; text-decoration-color: #008080; font-weight: bold\">0</span>, <span style=\"color: #008080; text-decoration-color: #008080; font-weight: bold\">0</span>, <span style=\"color: #008080; text-decoration-color: #008080; font-weight: bold\">0</span>, <span style=\"color: #008080; text-decoration-color: #008080; font-weight: bold\">0</span>, <span style=\"color: #008080; text-decoration-color: #008080; font-weight: bold\">0</span>, <span style=\"color: #008080; text-decoration-color: #008080; font-weight: bold\">0</span>, <span style=\"color: #008080; text-decoration-color: #008080; font-weight: bold\">0</span>, <span style=\"color: #008080; text-decoration-color: #008080; font-weight: bold\">0</span>, <span style=\"color: #008080; text-decoration-color: #008080; font-weight: bold\">0</span>, <span style=\"color: #008080; text-decoration-color: #008080; font-weight: bold\">0</span>, <span style=\"color: #008080; text-decoration-color: #008080; font-weight: bold\">0</span>, <span style=\"color: #008080; text-decoration-color: #008080; font-weight: bold\">0</span>, <span style=\"color: #008080; text-decoration-color: #008080; font-weight: bold\">0</span>, <span style=\"color: #008080; text-decoration-color: #008080; font-weight: bold\">0</span>, <span style=\"color: #008080; text-decoration-color: #008080; font-weight: bold\">0</span>, \n",
       "<span style=\"color: #008080; text-decoration-color: #008080; font-weight: bold\">0</span>, <span style=\"color: #008080; text-decoration-color: #008080; font-weight: bold\">0</span>, <span style=\"color: #008080; text-decoration-color: #008080; font-weight: bold\">0</span>, <span style=\"color: #008080; text-decoration-color: #008080; font-weight: bold\">0</span>, <span style=\"color: #008080; text-decoration-color: #008080; font-weight: bold\">0</span>, <span style=\"color: #008080; text-decoration-color: #008080; font-weight: bold\">0</span>, <span style=\"color: #008080; text-decoration-color: #008080; font-weight: bold\">0</span>, <span style=\"color: #008080; text-decoration-color: #008080; font-weight: bold\">0</span>, <span style=\"color: #008080; text-decoration-color: #008080; font-weight: bold\">0</span>, <span style=\"color: #008080; text-decoration-color: #008080; font-weight: bold\">0</span>, <span style=\"color: #008080; text-decoration-color: #008080; font-weight: bold\">0</span><span style=\"font-weight: bold\">)</span>\n",
       "</pre>\n"
      ],
      "text/plain": [
       "\u001b[1;35mseg.GetPixel\u001b[0m\u001b[1m(\u001b[0m\u001b[1;36m0\u001b[0m,\u001b[1;36m0\u001b[0m,\u001b[1;36m0\u001b[0m\u001b[1m)\u001b[0m=\u001b[1m(\u001b[0m\u001b[1;36m0\u001b[0m, \u001b[1;36m0\u001b[0m, \u001b[1;36m0\u001b[0m, \u001b[1;36m0\u001b[0m, \u001b[1;36m0\u001b[0m, \u001b[1;36m0\u001b[0m, \u001b[1;36m0\u001b[0m, \u001b[1;36m0\u001b[0m, \u001b[1;36m0\u001b[0m, \u001b[1;36m0\u001b[0m, \u001b[1;36m0\u001b[0m, \u001b[1;36m0\u001b[0m, \u001b[1;36m0\u001b[0m, \u001b[1;36m0\u001b[0m, \u001b[1;36m0\u001b[0m, \u001b[1;36m0\u001b[0m, \u001b[1;36m0\u001b[0m, \u001b[1;36m0\u001b[0m, \u001b[1;36m0\u001b[0m, \u001b[1;36m0\u001b[0m, \u001b[1;36m0\u001b[0m, \u001b[1;36m0\u001b[0m, \u001b[1;36m0\u001b[0m, \u001b[1;36m0\u001b[0m, \u001b[1;36m0\u001b[0m, \u001b[1;36m0\u001b[0m, \u001b[1;36m0\u001b[0m, \u001b[1;36m0\u001b[0m, \u001b[1;36m0\u001b[0m, \u001b[1;36m0\u001b[0m, \u001b[1;36m0\u001b[0m, \n",
       "\u001b[1;36m0\u001b[0m, \u001b[1;36m0\u001b[0m, \u001b[1;36m0\u001b[0m, \u001b[1;36m0\u001b[0m, \u001b[1;36m0\u001b[0m, \u001b[1;36m0\u001b[0m, \u001b[1;36m0\u001b[0m, \u001b[1;36m0\u001b[0m, \u001b[1;36m0\u001b[0m, \u001b[1;36m0\u001b[0m, \u001b[1;36m0\u001b[0m, \u001b[1;36m0\u001b[0m, \u001b[1;36m0\u001b[0m, \u001b[1;36m0\u001b[0m, \u001b[1;36m0\u001b[0m, \u001b[1;36m0\u001b[0m, \u001b[1;36m0\u001b[0m, \u001b[1;36m0\u001b[0m, \u001b[1;36m0\u001b[0m, \u001b[1;36m0\u001b[0m, \u001b[1;36m0\u001b[0m, \u001b[1;36m0\u001b[0m, \u001b[1;36m0\u001b[0m, \u001b[1;36m0\u001b[0m, \u001b[1;36m0\u001b[0m, \u001b[1;36m0\u001b[0m, \u001b[1;36m0\u001b[0m, \u001b[1;36m0\u001b[0m, \u001b[1;36m0\u001b[0m, \u001b[1;36m0\u001b[0m, \u001b[1;36m0\u001b[0m, \u001b[1;36m0\u001b[0m, \u001b[1;36m0\u001b[0m, \u001b[1;36m0\u001b[0m, \u001b[1;36m0\u001b[0m, \u001b[1;36m0\u001b[0m, \u001b[1;36m0\u001b[0m, \u001b[1;36m0\u001b[0m, \n",
       "\u001b[1;36m0\u001b[0m, \u001b[1;36m0\u001b[0m, \u001b[1;36m0\u001b[0m, \u001b[1;36m0\u001b[0m, \u001b[1;36m0\u001b[0m, \u001b[1;36m0\u001b[0m, \u001b[1;36m0\u001b[0m, \u001b[1;36m0\u001b[0m, \u001b[1;36m0\u001b[0m, \u001b[1;36m0\u001b[0m, \u001b[1;36m0\u001b[0m\u001b[1m)\u001b[0m\n"
      ]
     },
     "metadata": {},
     "output_type": "display_data"
    },
    {
     "data": {
      "text/html": [
       "<pre style=\"white-space:pre;overflow-x:auto;line-height:normal;font-family:Menlo,'DejaVu Sans Mono',consolas,'Courier New',monospace\"><span style=\"color: #800080; text-decoration-color: #800080; font-weight: bold\">seg.GetPixelID</span><span style=\"font-weight: bold\">()</span>=<span style=\"color: #008080; text-decoration-color: #008080; font-weight: bold\">13</span>\n",
       "</pre>\n"
      ],
      "text/plain": [
       "\u001b[1;35mseg.GetPixelID\u001b[0m\u001b[1m(\u001b[0m\u001b[1m)\u001b[0m=\u001b[1;36m13\u001b[0m\n"
      ]
     },
     "metadata": {},
     "output_type": "display_data"
    },
    {
     "data": {
      "text/html": [
       "<pre style=\"white-space:pre;overflow-x:auto;line-height:normal;font-family:Menlo,'DejaVu Sans Mono',consolas,'Courier New',monospace\"><span style=\"color: #800080; text-decoration-color: #800080; font-weight: bold\">seg.GetPixelIDValue</span><span style=\"font-weight: bold\">()</span>=<span style=\"color: #008080; text-decoration-color: #008080; font-weight: bold\">13</span>\n",
       "</pre>\n"
      ],
      "text/plain": [
       "\u001b[1;35mseg.GetPixelIDValue\u001b[0m\u001b[1m(\u001b[0m\u001b[1m)\u001b[0m=\u001b[1;36m13\u001b[0m\n"
      ]
     },
     "metadata": {},
     "output_type": "display_data"
    },
    {
     "data": {
      "text/html": [
       "<pre style=\"white-space:pre;overflow-x:auto;line-height:normal;font-family:Menlo,'DejaVu Sans Mono',consolas,'Courier New',monospace\"><span style=\"color: #800080; text-decoration-color: #800080; font-weight: bold\">seg.GetPixelIDTypeAsString</span><span style=\"font-weight: bold\">()</span>=<span style=\"color: #008000; text-decoration-color: #008000\">'vector of 8-bit unsigned integer'</span>\n",
       "</pre>\n"
      ],
      "text/plain": [
       "\u001b[1;35mseg.GetPixelIDTypeAsString\u001b[0m\u001b[1m(\u001b[0m\u001b[1m)\u001b[0m=\u001b[32m'vector of 8-bit unsigned integer'\u001b[0m\n"
      ]
     },
     "metadata": {},
     "output_type": "display_data"
    }
   ],
   "source": [
    "seg = mask.to_segmentation(img, continuous=False)\n",
    "\n",
    "print(f\"{seg.GetNumberOfComponentsPerPixel()=}\")\n",
    "print(f\"{seg.GetNumberOfPixels()=}\")\n",
    "\n",
    "print(f\"{seg.GetPixel(0,0,0)=}\") \n",
    "\n",
    "# pixel ID\n",
    "print(f\"{seg.GetPixelID()=}\")\n",
    "print(f\"{seg.GetPixelIDValue()=}\")\n",
    "print(f\"{seg.GetPixelIDTypeAsString()=}\")"
   ]
  }
 ],
 "metadata": {
  "kernelspec": {
   "display_name": "dev",
   "language": "python",
   "name": "python3"
  },
  "language_info": {
   "codemirror_mode": {
    "name": "ipython",
    "version": 3
   },
   "file_extension": ".py",
   "mimetype": "text/x-python",
   "name": "python",
   "nbconvert_exporter": "python",
   "pygments_lexer": "ipython3",
   "version": "3.12.8"
  }
 },
 "nbformat": 4,
 "nbformat_minor": 2
}
