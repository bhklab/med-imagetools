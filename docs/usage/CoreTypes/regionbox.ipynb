{
 "cells": [
  {
   "cell_type": "markdown",
   "metadata": {},
   "source": [
    "# RegionBox: A Simple Way to Work with 3D Image Regions\n",
    "\n",
    "## Overview\n",
    "\n",
    "The `RegionBox` class helps define, manipulate, and extract regions from\n",
    "3D images. If you're working with medical images (like CT or MRI scans),\n",
    "you'll often need to isolate specific areas—whether for visualization,\n",
    "processing, or deep learning tasks.\n",
    "\n",
    "With `RegionBox`, you can:\n",
    "\n",
    "- Define a 3D box with minimum and maximum coordinates.\n",
    "- Expand, pad, or adjust the box.\n",
    "- Extract regions from images.\n",
    "- Create a `RegionBox` from segmentation masks.\n"
   ]
  },
  {
   "cell_type": "markdown",
   "metadata": {},
   "source": [
    "\n",
    "## Getting Started\n",
    "\n",
    "To create a `RegionBox`, all you need are two 3D points:  \n",
    "the minimum (corner closest to the origin) and the maximum (opposite corner).\n"
   ]
  },
  {
   "cell_type": "code",
   "execution_count": 2,
   "metadata": {},
   "outputs": [
    {
     "data": {
      "text/html": [
       "<pre style=\"white-space:pre;overflow-x:auto;line-height:normal;font-family:Menlo,'DejaVu Sans Mono',consolas,'Courier New',monospace\"><span style=\"color: #800080; text-decoration-color: #800080; font-weight: bold\">RegionBox</span><span style=\"font-weight: bold\">(</span>\n",
       "        <span style=\"color: #808000; text-decoration-color: #808000\">min</span>=<span style=\"color: #800080; text-decoration-color: #800080; font-weight: bold\">Coordinate3D</span><span style=\"font-weight: bold\">(</span><span style=\"color: #808000; text-decoration-color: #808000\">x</span>=<span style=\"color: #008080; text-decoration-color: #008080; font-weight: bold\">5</span>, <span style=\"color: #808000; text-decoration-color: #808000\">y</span>=<span style=\"color: #008080; text-decoration-color: #008080; font-weight: bold\">5</span>, <span style=\"color: #808000; text-decoration-color: #808000\">z</span>=<span style=\"color: #008080; text-decoration-color: #008080; font-weight: bold\">5</span><span style=\"font-weight: bold\">)</span>,\n",
       "        <span style=\"color: #808000; text-decoration-color: #808000\">max</span>=<span style=\"color: #800080; text-decoration-color: #800080; font-weight: bold\">Coordinate3D</span><span style=\"font-weight: bold\">(</span><span style=\"color: #808000; text-decoration-color: #808000\">x</span>=<span style=\"color: #008080; text-decoration-color: #008080; font-weight: bold\">10</span>, <span style=\"color: #808000; text-decoration-color: #808000\">y</span>=<span style=\"color: #008080; text-decoration-color: #008080; font-weight: bold\">10</span>, <span style=\"color: #808000; text-decoration-color: #808000\">z</span>=<span style=\"color: #008080; text-decoration-color: #008080; font-weight: bold\">10</span><span style=\"font-weight: bold\">)</span>\n",
       "        <span style=\"color: #808000; text-decoration-color: #808000\">size</span>=<span style=\"color: #800080; text-decoration-color: #800080; font-weight: bold\">Size3D</span><span style=\"font-weight: bold\">(</span><span style=\"color: #808000; text-decoration-color: #808000\">w</span>=<span style=\"color: #008080; text-decoration-color: #008080; font-weight: bold\">5</span>, <span style=\"color: #808000; text-decoration-color: #808000\">h</span>=<span style=\"color: #008080; text-decoration-color: #008080; font-weight: bold\">5</span>, <span style=\"color: #808000; text-decoration-color: #808000\">d</span>=<span style=\"color: #008080; text-decoration-color: #008080; font-weight: bold\">5</span><span style=\"font-weight: bold\">)</span>\n",
       "<span style=\"font-weight: bold\">)</span>\n",
       "</pre>\n"
      ],
      "text/plain": [
       "\u001b[1;35mRegionBox\u001b[0m\u001b[1m(\u001b[0m\n",
       "        \u001b[33mmin\u001b[0m=\u001b[1;35mCoordinate3D\u001b[0m\u001b[1m(\u001b[0m\u001b[33mx\u001b[0m=\u001b[1;36m5\u001b[0m, \u001b[33my\u001b[0m=\u001b[1;36m5\u001b[0m, \u001b[33mz\u001b[0m=\u001b[1;36m5\u001b[0m\u001b[1m)\u001b[0m,\n",
       "        \u001b[33mmax\u001b[0m=\u001b[1;35mCoordinate3D\u001b[0m\u001b[1m(\u001b[0m\u001b[33mx\u001b[0m=\u001b[1;36m10\u001b[0m, \u001b[33my\u001b[0m=\u001b[1;36m10\u001b[0m, \u001b[33mz\u001b[0m=\u001b[1;36m10\u001b[0m\u001b[1m)\u001b[0m\n",
       "        \u001b[33msize\u001b[0m=\u001b[1;35mSize3D\u001b[0m\u001b[1m(\u001b[0m\u001b[33mw\u001b[0m=\u001b[1;36m5\u001b[0m, \u001b[33mh\u001b[0m=\u001b[1;36m5\u001b[0m, \u001b[33md\u001b[0m=\u001b[1;36m5\u001b[0m\u001b[1m)\u001b[0m\n",
       "\u001b[1m)\u001b[0m\n"
      ]
     },
     "metadata": {},
     "output_type": "display_data"
    }
   ],
   "source": [
    "from imgtools import Coordinate3D, RegionBox\n",
    "from rich import print\n",
    "\n",
    "# Define a box from (5,5,5) to (10,10,10)\n",
    "box = RegionBox(Coordinate3D(5, 5, 5), Coordinate3D(10, 10, 10))\n",
    "\n",
    "print(box)"
   ]
  },
  {
   "cell_type": "markdown",
   "metadata": {},
   "source": [
    "## Working with RegionBox\n",
    "\n",
    "### Expanding the Box\n",
    "\n",
    "Sometimes, you need to make the box bigger—whether to ensure  \n",
    "it contains enough context or meets a minimum required size."
   ]
  },
  {
   "cell_type": "code",
   "execution_count": 3,
   "metadata": {},
   "outputs": [
    {
     "data": {
      "text/html": [
       "<pre style=\"white-space:pre;overflow-x:auto;line-height:normal;font-family:Menlo,'DejaVu Sans Mono',consolas,'Courier New',monospace\"><span style=\"color: #800080; text-decoration-color: #800080; font-weight: bold\">RegionBox</span><span style=\"font-weight: bold\">(</span>\n",
       "        <span style=\"color: #808000; text-decoration-color: #808000\">min</span>=<span style=\"color: #800080; text-decoration-color: #800080; font-weight: bold\">Coordinate3D</span><span style=\"font-weight: bold\">(</span><span style=\"color: #808000; text-decoration-color: #808000\">x</span>=<span style=\"color: #008080; text-decoration-color: #008080; font-weight: bold\">0</span>, <span style=\"color: #808000; text-decoration-color: #808000\">y</span>=<span style=\"color: #008080; text-decoration-color: #008080; font-weight: bold\">0</span>, <span style=\"color: #808000; text-decoration-color: #808000\">z</span>=<span style=\"color: #008080; text-decoration-color: #008080; font-weight: bold\">0</span><span style=\"font-weight: bold\">)</span>,\n",
       "        <span style=\"color: #808000; text-decoration-color: #808000\">max</span>=<span style=\"color: #800080; text-decoration-color: #800080; font-weight: bold\">Coordinate3D</span><span style=\"font-weight: bold\">(</span><span style=\"color: #808000; text-decoration-color: #808000\">x</span>=<span style=\"color: #008080; text-decoration-color: #008080; font-weight: bold\">15</span>, <span style=\"color: #808000; text-decoration-color: #808000\">y</span>=<span style=\"color: #008080; text-decoration-color: #008080; font-weight: bold\">15</span>, <span style=\"color: #808000; text-decoration-color: #808000\">z</span>=<span style=\"color: #008080; text-decoration-color: #008080; font-weight: bold\">15</span><span style=\"font-weight: bold\">)</span>\n",
       "        <span style=\"color: #808000; text-decoration-color: #808000\">size</span>=<span style=\"color: #800080; text-decoration-color: #800080; font-weight: bold\">Size3D</span><span style=\"font-weight: bold\">(</span><span style=\"color: #808000; text-decoration-color: #808000\">w</span>=<span style=\"color: #008080; text-decoration-color: #008080; font-weight: bold\">15</span>, <span style=\"color: #808000; text-decoration-color: #808000\">h</span>=<span style=\"color: #008080; text-decoration-color: #008080; font-weight: bold\">15</span>, <span style=\"color: #808000; text-decoration-color: #808000\">d</span>=<span style=\"color: #008080; text-decoration-color: #008080; font-weight: bold\">15</span><span style=\"font-weight: bold\">)</span>\n",
       "<span style=\"font-weight: bold\">)</span>\n",
       "</pre>\n"
      ],
      "text/plain": [
       "\u001b[1;35mRegionBox\u001b[0m\u001b[1m(\u001b[0m\n",
       "        \u001b[33mmin\u001b[0m=\u001b[1;35mCoordinate3D\u001b[0m\u001b[1m(\u001b[0m\u001b[33mx\u001b[0m=\u001b[1;36m0\u001b[0m, \u001b[33my\u001b[0m=\u001b[1;36m0\u001b[0m, \u001b[33mz\u001b[0m=\u001b[1;36m0\u001b[0m\u001b[1m)\u001b[0m,\n",
       "        \u001b[33mmax\u001b[0m=\u001b[1;35mCoordinate3D\u001b[0m\u001b[1m(\u001b[0m\u001b[33mx\u001b[0m=\u001b[1;36m15\u001b[0m, \u001b[33my\u001b[0m=\u001b[1;36m15\u001b[0m, \u001b[33mz\u001b[0m=\u001b[1;36m15\u001b[0m\u001b[1m)\u001b[0m\n",
       "        \u001b[33msize\u001b[0m=\u001b[1;35mSize3D\u001b[0m\u001b[1m(\u001b[0m\u001b[33mw\u001b[0m=\u001b[1;36m15\u001b[0m, \u001b[33mh\u001b[0m=\u001b[1;36m15\u001b[0m, \u001b[33md\u001b[0m=\u001b[1;36m15\u001b[0m\u001b[1m)\u001b[0m\n",
       "\u001b[1m)\u001b[0m\n"
      ]
     },
     "metadata": {},
     "output_type": "display_data"
    }
   ],
   "source": [
    "# Expand the box symmetrically by 5 units in all directions\n",
    "expanded_box = box.pad(5)\n",
    "print(expanded_box)"
   ]
  },
  {
   "cell_type": "markdown",
   "metadata": {},
   "source": [
    "By default, the box expands equally in all directions by `padding` voxels.\n",
    "\n",
    "If you only want to expand in one direction (the max side), use the `BoxPadMethod.END` option:\n"
   ]
  },
  {
   "cell_type": "code",
   "execution_count": 9,
   "metadata": {},
   "outputs": [
    {
     "data": {
      "text/html": [
       "<pre style=\"white-space:pre;overflow-x:auto;line-height:normal;font-family:Menlo,'DejaVu Sans Mono',consolas,'Courier New',monospace\"><span style=\"color: #800080; text-decoration-color: #800080; font-weight: bold\">RegionBox</span><span style=\"font-weight: bold\">(</span>\n",
       "        <span style=\"color: #808000; text-decoration-color: #808000\">min</span>=<span style=\"color: #800080; text-decoration-color: #800080; font-weight: bold\">Coordinate3D</span><span style=\"font-weight: bold\">(</span><span style=\"color: #808000; text-decoration-color: #808000\">x</span>=<span style=\"color: #008080; text-decoration-color: #008080; font-weight: bold\">5</span>, <span style=\"color: #808000; text-decoration-color: #808000\">y</span>=<span style=\"color: #008080; text-decoration-color: #008080; font-weight: bold\">5</span>, <span style=\"color: #808000; text-decoration-color: #808000\">z</span>=<span style=\"color: #008080; text-decoration-color: #008080; font-weight: bold\">5</span><span style=\"font-weight: bold\">)</span>,\n",
       "        <span style=\"color: #808000; text-decoration-color: #808000\">max</span>=<span style=\"color: #800080; text-decoration-color: #800080; font-weight: bold\">Coordinate3D</span><span style=\"font-weight: bold\">(</span><span style=\"color: #808000; text-decoration-color: #808000\">x</span>=<span style=\"color: #008080; text-decoration-color: #008080; font-weight: bold\">15</span>, <span style=\"color: #808000; text-decoration-color: #808000\">y</span>=<span style=\"color: #008080; text-decoration-color: #008080; font-weight: bold\">15</span>, <span style=\"color: #808000; text-decoration-color: #808000\">z</span>=<span style=\"color: #008080; text-decoration-color: #008080; font-weight: bold\">15</span><span style=\"font-weight: bold\">)</span>\n",
       "        <span style=\"color: #808000; text-decoration-color: #808000\">size</span>=<span style=\"color: #800080; text-decoration-color: #800080; font-weight: bold\">Size3D</span><span style=\"font-weight: bold\">(</span><span style=\"color: #808000; text-decoration-color: #808000\">w</span>=<span style=\"color: #008080; text-decoration-color: #008080; font-weight: bold\">10</span>, <span style=\"color: #808000; text-decoration-color: #808000\">h</span>=<span style=\"color: #008080; text-decoration-color: #008080; font-weight: bold\">10</span>, <span style=\"color: #808000; text-decoration-color: #808000\">d</span>=<span style=\"color: #008080; text-decoration-color: #008080; font-weight: bold\">10</span><span style=\"font-weight: bold\">)</span>\n",
       "<span style=\"font-weight: bold\">)</span>\n",
       "</pre>\n"
      ],
      "text/plain": [
       "\u001b[1;35mRegionBox\u001b[0m\u001b[1m(\u001b[0m\n",
       "        \u001b[33mmin\u001b[0m=\u001b[1;35mCoordinate3D\u001b[0m\u001b[1m(\u001b[0m\u001b[33mx\u001b[0m=\u001b[1;36m5\u001b[0m, \u001b[33my\u001b[0m=\u001b[1;36m5\u001b[0m, \u001b[33mz\u001b[0m=\u001b[1;36m5\u001b[0m\u001b[1m)\u001b[0m,\n",
       "        \u001b[33mmax\u001b[0m=\u001b[1;35mCoordinate3D\u001b[0m\u001b[1m(\u001b[0m\u001b[33mx\u001b[0m=\u001b[1;36m15\u001b[0m, \u001b[33my\u001b[0m=\u001b[1;36m15\u001b[0m, \u001b[33mz\u001b[0m=\u001b[1;36m15\u001b[0m\u001b[1m)\u001b[0m\n",
       "        \u001b[33msize\u001b[0m=\u001b[1;35mSize3D\u001b[0m\u001b[1m(\u001b[0m\u001b[33mw\u001b[0m=\u001b[1;36m10\u001b[0m, \u001b[33mh\u001b[0m=\u001b[1;36m10\u001b[0m, \u001b[33md\u001b[0m=\u001b[1;36m10\u001b[0m\u001b[1m)\u001b[0m\n",
       "\u001b[1m)\u001b[0m\n"
      ]
     },
     "metadata": {},
     "output_type": "display_data"
    }
   ],
   "source": [
    "from imgtools import BoxPadMethod\n",
    "\n",
    "end_padded_box = box.pad(5, method=BoxPadMethod.END)\n",
    "print(end_padded_box)"
   ]
  },
  {
   "cell_type": "markdown",
   "metadata": {},
   "source": [
    "### Creating a RegionBox from a Mask\n",
    "\n",
    "If you have a segmentation mask (where a structure of interest is labeled),  \n",
    "you can automatically create a `RegionBox` around it.\n"
   ]
  },
  {
   "cell_type": "code",
   "execution_count": 15,
   "metadata": {},
   "outputs": [
    {
     "data": {
      "text/html": [
       "<pre style=\"white-space:pre;overflow-x:auto;line-height:normal;font-family:Menlo,'DejaVu Sans Mono',consolas,'Courier New',monospace\"><span style=\"color: #800080; text-decoration-color: #800080; font-weight: bold\">RegionBox</span><span style=\"font-weight: bold\">(</span>\n",
       "        <span style=\"color: #808000; text-decoration-color: #808000\">min</span>=<span style=\"color: #800080; text-decoration-color: #800080; font-weight: bold\">Coordinate3D</span><span style=\"font-weight: bold\">(</span><span style=\"color: #808000; text-decoration-color: #808000\">x</span>=<span style=\"color: #008080; text-decoration-color: #008080; font-weight: bold\">45</span>, <span style=\"color: #808000; text-decoration-color: #808000\">y</span>=<span style=\"color: #008080; text-decoration-color: #008080; font-weight: bold\">21</span>, <span style=\"color: #808000; text-decoration-color: #808000\">z</span>=<span style=\"color: #008080; text-decoration-color: #008080; font-weight: bold\">67</span><span style=\"font-weight: bold\">)</span>,\n",
       "        <span style=\"color: #808000; text-decoration-color: #808000\">max</span>=<span style=\"color: #800080; text-decoration-color: #800080; font-weight: bold\">Coordinate3D</span><span style=\"font-weight: bold\">(</span><span style=\"color: #808000; text-decoration-color: #808000\">x</span>=<span style=\"color: #008080; text-decoration-color: #008080; font-weight: bold\">55</span>, <span style=\"color: #808000; text-decoration-color: #808000\">y</span>=<span style=\"color: #008080; text-decoration-color: #008080; font-weight: bold\">38</span>, <span style=\"color: #808000; text-decoration-color: #808000\">z</span>=<span style=\"color: #008080; text-decoration-color: #008080; font-weight: bold\">84</span><span style=\"font-weight: bold\">)</span>\n",
       "        <span style=\"color: #808000; text-decoration-color: #808000\">size</span>=<span style=\"color: #800080; text-decoration-color: #800080; font-weight: bold\">Size3D</span><span style=\"font-weight: bold\">(</span><span style=\"color: #808000; text-decoration-color: #808000\">w</span>=<span style=\"color: #008080; text-decoration-color: #008080; font-weight: bold\">10</span>, <span style=\"color: #808000; text-decoration-color: #808000\">h</span>=<span style=\"color: #008080; text-decoration-color: #008080; font-weight: bold\">17</span>, <span style=\"color: #808000; text-decoration-color: #808000\">d</span>=<span style=\"color: #008080; text-decoration-color: #008080; font-weight: bold\">17</span><span style=\"font-weight: bold\">)</span>\n",
       "<span style=\"font-weight: bold\">)</span>\n",
       "</pre>\n"
      ],
      "text/plain": [
       "\u001b[1;35mRegionBox\u001b[0m\u001b[1m(\u001b[0m\n",
       "        \u001b[33mmin\u001b[0m=\u001b[1;35mCoordinate3D\u001b[0m\u001b[1m(\u001b[0m\u001b[33mx\u001b[0m=\u001b[1;36m45\u001b[0m, \u001b[33my\u001b[0m=\u001b[1;36m21\u001b[0m, \u001b[33mz\u001b[0m=\u001b[1;36m67\u001b[0m\u001b[1m)\u001b[0m,\n",
       "        \u001b[33mmax\u001b[0m=\u001b[1;35mCoordinate3D\u001b[0m\u001b[1m(\u001b[0m\u001b[33mx\u001b[0m=\u001b[1;36m55\u001b[0m, \u001b[33my\u001b[0m=\u001b[1;36m38\u001b[0m, \u001b[33mz\u001b[0m=\u001b[1;36m84\u001b[0m\u001b[1m)\u001b[0m\n",
       "        \u001b[33msize\u001b[0m=\u001b[1;35mSize3D\u001b[0m\u001b[1m(\u001b[0m\u001b[33mw\u001b[0m=\u001b[1;36m10\u001b[0m, \u001b[33mh\u001b[0m=\u001b[1;36m17\u001b[0m, \u001b[33md\u001b[0m=\u001b[1;36m17\u001b[0m\u001b[1m)\u001b[0m\n",
       "\u001b[1m)\u001b[0m\n"
      ]
     },
     "metadata": {},
     "output_type": "display_data"
    }
   ],
   "source": [
    "from imgtools.datasets import example_data\n",
    "\n",
    "mask = example_data()['mask']\n",
    "\n",
    "# Create a box around the mask's bounding box\n",
    "bbox_region = RegionBox.from_mask_bbox(mask)\n",
    "print(bbox_region)"
   ]
  },
  {
   "cell_type": "markdown",
   "metadata": {},
   "source": [
    "You can create a `RegionBox` from the centroid of the mask.\n",
    "\n",
    "This will create a `RegionBox` of size 0, where the min and max points are the same.\n",
    "\n",
    "However, you can expand the box to include more context around the mask."
   ]
  },
  {
   "cell_type": "code",
   "execution_count": 13,
   "metadata": {},
   "outputs": [
    {
     "data": {
      "text/html": [
       "<pre style=\"white-space:pre;overflow-x:auto;line-height:normal;font-family:Menlo,'DejaVu Sans Mono',consolas,'Courier New',monospace\"><span style=\"color: #800080; text-decoration-color: #800080; font-weight: bold\">RegionBox</span><span style=\"font-weight: bold\">(</span>\n",
       "        <span style=\"color: #808000; text-decoration-color: #808000\">min</span>=<span style=\"color: #800080; text-decoration-color: #800080; font-weight: bold\">Coordinate3D</span><span style=\"font-weight: bold\">(</span><span style=\"color: #808000; text-decoration-color: #808000\">x</span>=<span style=\"color: #008080; text-decoration-color: #008080; font-weight: bold\">50</span>, <span style=\"color: #808000; text-decoration-color: #808000\">y</span>=<span style=\"color: #008080; text-decoration-color: #008080; font-weight: bold\">29</span>, <span style=\"color: #808000; text-decoration-color: #808000\">z</span>=<span style=\"color: #008080; text-decoration-color: #008080; font-weight: bold\">76</span><span style=\"font-weight: bold\">)</span>,\n",
       "        <span style=\"color: #808000; text-decoration-color: #808000\">max</span>=<span style=\"color: #800080; text-decoration-color: #800080; font-weight: bold\">Coordinate3D</span><span style=\"font-weight: bold\">(</span><span style=\"color: #808000; text-decoration-color: #808000\">x</span>=<span style=\"color: #008080; text-decoration-color: #008080; font-weight: bold\">50</span>, <span style=\"color: #808000; text-decoration-color: #808000\">y</span>=<span style=\"color: #008080; text-decoration-color: #008080; font-weight: bold\">29</span>, <span style=\"color: #808000; text-decoration-color: #808000\">z</span>=<span style=\"color: #008080; text-decoration-color: #008080; font-weight: bold\">76</span><span style=\"font-weight: bold\">)</span>\n",
       "        <span style=\"color: #808000; text-decoration-color: #808000\">size</span>=<span style=\"color: #800080; text-decoration-color: #800080; font-weight: bold\">Size3D</span><span style=\"font-weight: bold\">(</span><span style=\"color: #808000; text-decoration-color: #808000\">w</span>=<span style=\"color: #008080; text-decoration-color: #008080; font-weight: bold\">0</span>, <span style=\"color: #808000; text-decoration-color: #808000\">h</span>=<span style=\"color: #008080; text-decoration-color: #008080; font-weight: bold\">0</span>, <span style=\"color: #808000; text-decoration-color: #808000\">d</span>=<span style=\"color: #008080; text-decoration-color: #008080; font-weight: bold\">0</span><span style=\"font-weight: bold\">)</span>\n",
       "<span style=\"font-weight: bold\">)</span>\n",
       "</pre>\n"
      ],
      "text/plain": [
       "\u001b[1;35mRegionBox\u001b[0m\u001b[1m(\u001b[0m\n",
       "        \u001b[33mmin\u001b[0m=\u001b[1;35mCoordinate3D\u001b[0m\u001b[1m(\u001b[0m\u001b[33mx\u001b[0m=\u001b[1;36m50\u001b[0m, \u001b[33my\u001b[0m=\u001b[1;36m29\u001b[0m, \u001b[33mz\u001b[0m=\u001b[1;36m76\u001b[0m\u001b[1m)\u001b[0m,\n",
       "        \u001b[33mmax\u001b[0m=\u001b[1;35mCoordinate3D\u001b[0m\u001b[1m(\u001b[0m\u001b[33mx\u001b[0m=\u001b[1;36m50\u001b[0m, \u001b[33my\u001b[0m=\u001b[1;36m29\u001b[0m, \u001b[33mz\u001b[0m=\u001b[1;36m76\u001b[0m\u001b[1m)\u001b[0m\n",
       "        \u001b[33msize\u001b[0m=\u001b[1;35mSize3D\u001b[0m\u001b[1m(\u001b[0m\u001b[33mw\u001b[0m=\u001b[1;36m0\u001b[0m, \u001b[33mh\u001b[0m=\u001b[1;36m0\u001b[0m, \u001b[33md\u001b[0m=\u001b[1;36m0\u001b[0m\u001b[1m)\u001b[0m\n",
       "\u001b[1m)\u001b[0m\n"
      ]
     },
     "metadata": {},
     "output_type": "display_data"
    },
    {
     "data": {
      "text/html": [
       "<pre style=\"white-space:pre;overflow-x:auto;line-height:normal;font-family:Menlo,'DejaVu Sans Mono',consolas,'Courier New',monospace\"><span style=\"color: #800080; text-decoration-color: #800080; font-weight: bold\">RegionBox</span><span style=\"font-weight: bold\">(</span>\n",
       "        <span style=\"color: #808000; text-decoration-color: #808000\">min</span>=<span style=\"color: #800080; text-decoration-color: #800080; font-weight: bold\">Coordinate3D</span><span style=\"font-weight: bold\">(</span><span style=\"color: #808000; text-decoration-color: #808000\">x</span>=<span style=\"color: #008080; text-decoration-color: #008080; font-weight: bold\">45</span>, <span style=\"color: #808000; text-decoration-color: #808000\">y</span>=<span style=\"color: #008080; text-decoration-color: #008080; font-weight: bold\">24</span>, <span style=\"color: #808000; text-decoration-color: #808000\">z</span>=<span style=\"color: #008080; text-decoration-color: #008080; font-weight: bold\">71</span><span style=\"font-weight: bold\">)</span>,\n",
       "        <span style=\"color: #808000; text-decoration-color: #808000\">max</span>=<span style=\"color: #800080; text-decoration-color: #800080; font-weight: bold\">Coordinate3D</span><span style=\"font-weight: bold\">(</span><span style=\"color: #808000; text-decoration-color: #808000\">x</span>=<span style=\"color: #008080; text-decoration-color: #008080; font-weight: bold\">55</span>, <span style=\"color: #808000; text-decoration-color: #808000\">y</span>=<span style=\"color: #008080; text-decoration-color: #008080; font-weight: bold\">34</span>, <span style=\"color: #808000; text-decoration-color: #808000\">z</span>=<span style=\"color: #008080; text-decoration-color: #008080; font-weight: bold\">81</span><span style=\"font-weight: bold\">)</span>\n",
       "        <span style=\"color: #808000; text-decoration-color: #808000\">size</span>=<span style=\"color: #800080; text-decoration-color: #800080; font-weight: bold\">Size3D</span><span style=\"font-weight: bold\">(</span><span style=\"color: #808000; text-decoration-color: #808000\">w</span>=<span style=\"color: #008080; text-decoration-color: #008080; font-weight: bold\">10</span>, <span style=\"color: #808000; text-decoration-color: #808000\">h</span>=<span style=\"color: #008080; text-decoration-color: #008080; font-weight: bold\">10</span>, <span style=\"color: #808000; text-decoration-color: #808000\">d</span>=<span style=\"color: #008080; text-decoration-color: #008080; font-weight: bold\">10</span><span style=\"font-weight: bold\">)</span>\n",
       "<span style=\"font-weight: bold\">)</span>\n",
       "</pre>\n"
      ],
      "text/plain": [
       "\u001b[1;35mRegionBox\u001b[0m\u001b[1m(\u001b[0m\n",
       "        \u001b[33mmin\u001b[0m=\u001b[1;35mCoordinate3D\u001b[0m\u001b[1m(\u001b[0m\u001b[33mx\u001b[0m=\u001b[1;36m45\u001b[0m, \u001b[33my\u001b[0m=\u001b[1;36m24\u001b[0m, \u001b[33mz\u001b[0m=\u001b[1;36m71\u001b[0m\u001b[1m)\u001b[0m,\n",
       "        \u001b[33mmax\u001b[0m=\u001b[1;35mCoordinate3D\u001b[0m\u001b[1m(\u001b[0m\u001b[33mx\u001b[0m=\u001b[1;36m55\u001b[0m, \u001b[33my\u001b[0m=\u001b[1;36m34\u001b[0m, \u001b[33mz\u001b[0m=\u001b[1;36m81\u001b[0m\u001b[1m)\u001b[0m\n",
       "        \u001b[33msize\u001b[0m=\u001b[1;35mSize3D\u001b[0m\u001b[1m(\u001b[0m\u001b[33mw\u001b[0m=\u001b[1;36m10\u001b[0m, \u001b[33mh\u001b[0m=\u001b[1;36m10\u001b[0m, \u001b[33md\u001b[0m=\u001b[1;36m10\u001b[0m\u001b[1m)\u001b[0m\n",
       "\u001b[1m)\u001b[0m\n"
      ]
     },
     "metadata": {},
     "output_type": "display_data"
    }
   ],
   "source": [
    "# Create a box around the mask's centroid\n",
    "centroid_box = RegionBox.from_mask_centroid(mask)\n",
    "print(centroid_box)\n",
    "\n",
    "expanded_centroid_box = centroid_box.expand_to_min_size(10)\n",
    "print(expanded_centroid_box)"
   ]
  },
  {
   "cell_type": "markdown",
   "metadata": {},
   "source": [
    "### Cropping an Image\n",
    "\n",
    "Once you have a `RegionBox`, you can crop an image to the exact region.  \n",
    "This is useful when extracting specific anatomical structures.\n"
   ]
  },
  {
   "cell_type": "code",
   "execution_count": 16,
   "metadata": {},
   "outputs": [
    {
     "data": {
      "text/html": [
       "<pre style=\"white-space:pre;overflow-x:auto;line-height:normal;font-family:Menlo,'DejaVu Sans Mono',consolas,'Courier New',monospace\"><span style=\"font-weight: bold\">(</span><span style=\"color: #008080; text-decoration-color: #008080; font-weight: bold\">10</span>, <span style=\"color: #008080; text-decoration-color: #008080; font-weight: bold\">17</span>, <span style=\"color: #008080; text-decoration-color: #008080; font-weight: bold\">17</span><span style=\"font-weight: bold\">)</span>\n",
       "</pre>\n"
      ],
      "text/plain": [
       "\u001b[1m(\u001b[0m\u001b[1;36m10\u001b[0m, \u001b[1;36m17\u001b[0m, \u001b[1;36m17\u001b[0m\u001b[1m)\u001b[0m\n"
      ]
     },
     "metadata": {},
     "output_type": "display_data"
    }
   ],
   "source": [
    "import SimpleITK as sitk\n",
    "\n",
    "# Load an example image (100x100x100 voxel CT scan)\n",
    "image = example_data()['duck']\n",
    "\n",
    "cropped_image = bbox_region.crop_image(image)\n",
    "print(cropped_image.GetSize())"
   ]
  },
  {
   "cell_type": "markdown",
   "metadata": {},
   "source": [
    "You can also crop both the image and the mask at the same time."
   ]
  },
  {
   "cell_type": "code",
   "execution_count": 18,
   "metadata": {},
   "outputs": [
    {
     "data": {
      "text/html": [
       "<pre style=\"white-space:pre;overflow-x:auto;line-height:normal;font-family:Menlo,'DejaVu Sans Mono',consolas,'Courier New',monospace\"><span style=\"font-weight: bold\">(</span><span style=\"color: #008080; text-decoration-color: #008080; font-weight: bold\">10</span>, <span style=\"color: #008080; text-decoration-color: #008080; font-weight: bold\">17</span>, <span style=\"color: #008080; text-decoration-color: #008080; font-weight: bold\">17</span><span style=\"font-weight: bold\">)</span>\n",
       "</pre>\n"
      ],
      "text/plain": [
       "\u001b[1m(\u001b[0m\u001b[1;36m10\u001b[0m, \u001b[1;36m17\u001b[0m, \u001b[1;36m17\u001b[0m\u001b[1m)\u001b[0m\n"
      ]
     },
     "metadata": {},
     "output_type": "display_data"
    },
    {
     "data": {
      "text/html": [
       "<pre style=\"white-space:pre;overflow-x:auto;line-height:normal;font-family:Menlo,'DejaVu Sans Mono',consolas,'Courier New',monospace\"><span style=\"font-weight: bold\">(</span><span style=\"color: #008080; text-decoration-color: #008080; font-weight: bold\">10</span>, <span style=\"color: #008080; text-decoration-color: #008080; font-weight: bold\">17</span>, <span style=\"color: #008080; text-decoration-color: #008080; font-weight: bold\">17</span><span style=\"font-weight: bold\">)</span>\n",
       "</pre>\n"
      ],
      "text/plain": [
       "\u001b[1m(\u001b[0m\u001b[1;36m10\u001b[0m, \u001b[1;36m17\u001b[0m, \u001b[1;36m17\u001b[0m\u001b[1m)\u001b[0m\n"
      ]
     },
     "metadata": {},
     "output_type": "display_data"
    }
   ],
   "source": [
    "cropped_image, cropped_mask = bbox_region.crop_image_and_mask(image, mask)\n",
    "\n",
    "print(cropped_image.GetSize())\n",
    "print(cropped_mask.GetSize())"
   ]
  },
  {
   "cell_type": "code",
   "execution_count": 24,
   "metadata": {},
   "outputs": [
    {
     "data": {
      "text/html": [
       "<pre style=\"white-space:pre;overflow-x:auto;line-height:normal;font-family:Menlo,'DejaVu Sans Mono',consolas,'Courier New',monospace\"><span style=\"font-weight: bold\">(</span><span style=\"color: #008080; text-decoration-color: #008080; font-weight: bold\">20</span>, <span style=\"color: #008080; text-decoration-color: #008080; font-weight: bold\">20</span>, <span style=\"color: #008080; text-decoration-color: #008080; font-weight: bold\">20</span><span style=\"font-weight: bold\">)</span>\n",
       "</pre>\n"
      ],
      "text/plain": [
       "\u001b[1m(\u001b[0m\u001b[1;36m20\u001b[0m, \u001b[1;36m20\u001b[0m, \u001b[1;36m20\u001b[0m\u001b[1m)\u001b[0m\n"
      ]
     },
     "metadata": {},
     "output_type": "display_data"
    },
    {
     "data": {
      "text/html": [
       "<pre style=\"white-space:pre;overflow-x:auto;line-height:normal;font-family:Menlo,'DejaVu Sans Mono',consolas,'Courier New',monospace\"><span style=\"font-weight: bold\">(</span><span style=\"color: #008080; text-decoration-color: #008080; font-weight: bold\">20</span>, <span style=\"color: #008080; text-decoration-color: #008080; font-weight: bold\">20</span>, <span style=\"color: #008080; text-decoration-color: #008080; font-weight: bold\">20</span><span style=\"font-weight: bold\">)</span>\n",
       "</pre>\n"
      ],
      "text/plain": [
       "\u001b[1m(\u001b[0m\u001b[1;36m20\u001b[0m, \u001b[1;36m20\u001b[0m, \u001b[1;36m20\u001b[0m\u001b[1m)\u001b[0m\n"
      ]
     },
     "metadata": {},
     "output_type": "display_data"
    }
   ],
   "source": [
    "# Perform multiple steps together\n",
    "cropped_image, cropped_mask = (\n",
    "  RegionBox.from_mask_centroid(mask)\n",
    "    .expand_to_min_size(20)\n",
    "    .crop_image_and_mask(image, mask)\n",
    ")\n",
    "\n",
    "print(cropped_image.GetSize())\n",
    "print(cropped_mask.GetSize())"
   ]
  },
  {
   "cell_type": "markdown",
   "metadata": {},
   "source": [
    "## Summary\n",
    "\n",
    "The `RegionBox` class makes it easy to define, manipulate, and extract  \n",
    "regions from 3D images. Whether you're cropping scans or defining  \n",
    "analysis regions, it provides a simple and flexible interface.\n",
    "\n",
    "Key features:\n",
    "- Define regions with `RegionBox(min, max)`.\n",
    "- Expand regions with `.pad()`, `.expand_to_cube()`, etc.\n",
    "- Extract image regions using `.crop_image()`.\n",
    "- Create boxes from masks with `.from_mask_bbox()` or `.from_mask_centroid()`.\n",
    "\n",
    "Try it out and make working with medical image regions easier!"
   ]
  }
 ],
 "metadata": {
  "kernelspec": {
   "display_name": "dev",
   "language": "python",
   "name": "python3"
  },
  "language_info": {
   "codemirror_mode": {
    "name": "ipython",
    "version": 3
   },
   "file_extension": ".py",
   "mimetype": "text/x-python",
   "name": "python",
   "nbconvert_exporter": "python",
   "pygments_lexer": "ipython3",
   "version": "3.12.8"
  }
 },
 "nbformat": 4,
 "nbformat_minor": 2
}
