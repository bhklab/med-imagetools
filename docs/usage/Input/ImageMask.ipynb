{
 "cells": [
  {
   "cell_type": "markdown",
   "metadata": {},
   "source": [
    "# Loading Images and Masks from DICOMs"
   ]
  },
  {
   "cell_type": "code",
   "execution_count": 2,
   "metadata": {},
   "outputs": [],
   "source": [
    "from pathlib import Path\n",
    "\n",
    "from imgtools.logging import logger\n",
    "from imgtools.ops.input_classes import ImageMaskInput, ImageMaskModalities\n",
    "\n",
    "logger.setLevel(\"ERROR\")"
   ]
  },
  {
   "cell_type": "markdown",
   "metadata": {},
   "source": [
    "## Getting Started\n",
    "\n",
    "You need the following at minimum:\n",
    "- Path to the directory containing the DICOM files\n",
    "- Establish which Image and Mask modalities you want to use:\n",
    "Combinations are:  \n",
    "\n",
    "| Image Modality | Mask Modality |\n",
    "|----------------|---------------|\n",
    "| CT             | RTSTRUCT      |\n",
    "| MR             | RTSTRUCT      |\n",
    "| CT             | SEG      |\n",
    "| MR             | SEG      |"
   ]
  },
  {
   "cell_type": "markdown",
   "metadata": {},
   "source": [
    "For this tutorial we will download two datasets:\n"
   ]
  },
  {
   "cell_type": "code",
   "execution_count": 3,
   "metadata": {},
   "outputs": [],
   "source": [
    "# Define the path to the data\n",
    "testdata = Path(\"testdata\")\n",
    "# for this tutorial we will use some test image data\n",
    "datasets_name = [\"NSCLC-Radiomics\", \"Vestibular-Schwannoma-SEG\"]"
   ]
  },
  {
   "cell_type": "code",
   "execution_count": null,
   "metadata": {},
   "outputs": [],
   "source": [
    "%%capture \n",
    "# download data using the imgtools cli\n",
    "for ds in datasets_name:\n",
    "    if not (testdata / f\"{ds}.tar.gz\").exists():\n",
    "        print(f\"Downloading {ds} dataset\")\n",
    "        !imgtools testdata -a {ds}.tar.gz {testdata.absolute()}\n"
   ]
  },
  {
   "cell_type": "markdown",
   "metadata": {},
   "source": [
    "## Setting up the loaders with `ImageMaskInput`"
   ]
  },
  {
   "cell_type": "markdown",
   "metadata": {},
   "source": [
    "### Vestibular-Schwannoma-SEG\n",
    "\n",
    "has MR as scan and RTSTRUCT as mask:\n",
    "\n",
    "\n",
    "| Patient ID           | Modality  | Number of Series    |\n",
    "|----------------------|-----------|---------------------|\n",
    "| VS-SEG-001           | MR        | 2                   |\n",
    "| VS-SEG-001           | RTSTRUCT  | 2                   |\n",
    "| VS-SEG-002           | MR        | 2                   |\n",
    "| VS-SEG-002           | RTSTRUCT  | 2                   |"
   ]
  },
  {
   "cell_type": "code",
   "execution_count": 5,
   "metadata": {},
   "outputs": [
    {
     "name": "stdout",
     "output_type": "stream",
     "text": [
      "ImageMaskInput<\n",
      "\tnum_cases=4,\n",
      "\tdataset_name='Vestibular-Schwannoma-SEG',\n",
      "\tmodalities=<MR,RTSTRUCT>,\n",
      "\toutput_streams=['MR', 'RTSTRUCT_MR'],\n",
      "\tseries_col_names=['series_MR', 'series_RTSTRUCT_MR'],\n",
      ">\n"
     ]
    }
   ],
   "source": [
    "vs_seg = ImageMaskInput(\n",
    "  dir_path=testdata / datasets_name[1],\n",
    "  modalities=ImageMaskModalities.MR_RTSTRUCT\n",
    ")\n",
    "\n",
    "print(vs_seg)"
   ]
  },
  {
   "cell_type": "markdown",
   "metadata": {},
   "source": [
    "### NSCLC-Radiomics\n",
    "\n",
    "has CT as scan and BOTH RTSTRUCT and SEG as masks.\n",
    "\n",
    "| Patient ID           | Modality  | Number of Series    |\n",
    "|----------------------|-----------|---------------------|\n",
    "| LUNG1-001            | CT        | 1                   |\n",
    "| LUNG1-001            | RTSTRUCT  | 1                   |\n",
    "| LUNG1-001            | SEG       | 1                   |\n",
    "| LUNG1-002            | CT        | 1                   |\n",
    "| LUNG1-002            | RTSTRUCT  | 1                   |\n",
    "| LUNG1-002            | SEG       | 1                   |"
   ]
  },
  {
   "cell_type": "code",
   "execution_count": 10,
   "metadata": {},
   "outputs": [
    {
     "data": {
      "text/plain": [
       "ImageMaskInput<\n",
       "\tnum_cases=2,\n",
       "\tdataset_name='NSCLC-Radiomics',\n",
       "\tmodalities=<CT,RTSTRUCT>,\n",
       "\toutput_streams=['CT', 'RTSTRUCT_CT'],\n",
       "\tseries_col_names=['series_CT', 'series_RTSTRUCT_CT'],\n",
       ">"
      ]
     },
     "execution_count": 10,
     "metadata": {},
     "output_type": "execute_result"
    }
   ],
   "source": [
    "nsclsc_rtstruct = ImageMaskInput(\n",
    "    dir_path=testdata / datasets_name[0],\n",
    "    modalities=ImageMaskModalities.CT_RTSTRUCT\n",
    ")\n",
    "nsclsc_rtstruct"
   ]
  },
  {
   "cell_type": "code",
   "execution_count": 11,
   "metadata": {},
   "outputs": [
    {
     "data": {
      "text/plain": [
       "ImageMaskInput<\n",
       "\tnum_cases=2,\n",
       "\tdataset_name='NSCLC-Radiomics',\n",
       "\tmodalities=<CT,SEG>,\n",
       "\toutput_streams=['CT', 'SEG'],\n",
       "\tseries_col_names=['series_CT', 'series_SEG'],\n",
       ">"
      ]
     },
     "execution_count": 11,
     "metadata": {},
     "output_type": "execute_result"
    }
   ],
   "source": [
    "nsclsc_seg = ImageMaskInput(\n",
    "    dir_path=testdata / datasets_name[0],\n",
    "    modalities=ImageMaskModalities.CT_SEG\n",
    ")\n",
    "nsclsc_seg"
   ]
  },
  {
   "cell_type": "markdown",
   "metadata": {},
   "source": [
    "## Using the Input Datasets"
   ]
  },
  {
   "cell_type": "code",
   "execution_count": 12,
   "metadata": {},
   "outputs": [
    {
     "data": {
      "text/plain": [
       "['0_LUNG1-002', '1_LUNG1-001']"
      ]
     },
     "execution_count": 12,
     "metadata": {},
     "output_type": "execute_result"
    }
   ],
   "source": [
    "# List the case IDs (subject IDs)\n",
    "nsclsc_rtstruct.keys()"
   ]
  },
  {
   "cell_type": "markdown",
   "metadata": {},
   "source": [
    "### Load a case"
   ]
  },
  {
   "cell_type": "markdown",
   "metadata": {},
   "source": [
    "### StructureSets are automatically converted to `imgtools.Segmentation` objects"
   ]
  },
  {
   "cell_type": "code",
   "execution_count": 15,
   "metadata": {},
   "outputs": [
    {
     "data": {
      "text/plain": [
       "ImageMask(scan=Scan<\n",
       "\tBodyPartExamined=LUNG\n",
       "\tSliceThickness=3.00000\n",
       "\tPatientPosition=HFS\n",
       "\tManufacturer=CMS, Inc.\n",
       "\tRescaleSlope=1\n",
       "\tManufacturerModelName=XiO\n",
       "\tPixelSize=('0.9770', '0.9770', '3.00000')\n",
       "\tKVP=None, size=(512, 512, 111)\n",
       "\tspacing=(0.977, 0.977, 3.0)\n",
       "\torigin=(-250.112, -250.112, -133.4)\n",
       "\tdirection=(1.0, 0.0, 0.0, 0.0, 1.0, 0.0, 0.0, 0.0, 1.0)\n",
       ">, mask=<Segmentation with ROIs: {'Esophagus': 1, 'GTV-1': 2, 'Heart': 3, 'Lung-Left': 4, 'Lung-Right': 5, 'Spinal-Cord': 6}>)"
      ]
     },
     "execution_count": 15,
     "metadata": {},
     "output_type": "execute_result"
    }
   ],
   "source": [
    "# by case ID or index\n",
    "case = nsclsc_rtstruct['0_LUNG1-002']\n",
    "#view\n",
    "case"
   ]
  },
  {
   "cell_type": "code",
   "execution_count": 16,
   "metadata": {},
   "outputs": [
    {
     "data": {
      "text/plain": [
       "<Segmentation with ROIs: {'Esophagus': 1, 'GTV-1': 2, 'Heart': 3, 'Lung-Left': 4, 'Lung-Right': 5, 'Spinal-Cord': 6}>"
      ]
     },
     "execution_count": 16,
     "metadata": {},
     "output_type": "execute_result"
    }
   ],
   "source": [
    "image, mask = case\n",
    "mask"
   ]
  },
  {
   "cell_type": "markdown",
   "metadata": {},
   "source": [
    "### Whereas native `SEG` modalities get loaded as `Segmentation` objects"
   ]
  },
  {
   "cell_type": "code",
   "execution_count": null,
   "metadata": {},
   "outputs": [
    {
     "data": {
      "text/plain": [
       "<Segmentation with ROIs: {'label_1': 1}>"
      ]
     },
     "execution_count": 17,
     "metadata": {},
     "output_type": "execute_result"
    }
   ],
   "source": [
    "# by case ID or index\n",
    "caseid = nsclsc_seg.keys()[0]\n",
    "image, mask  = nsclsc_seg[caseid]\n",
    "mask"
   ]
  },
  {
   "cell_type": "markdown",
   "metadata": {},
   "source": [
    "### MR & RTSTRUCT example"
   ]
  },
  {
   "cell_type": "code",
   "execution_count": 19,
   "metadata": {},
   "outputs": [
    {
     "data": {
      "text/plain": [
       "<Segmentation with ROIs: {'*Skull': 1, 'TV': 2, 'cochlea': 3}>"
      ]
     },
     "execution_count": 19,
     "metadata": {},
     "output_type": "execute_result"
    }
   ],
   "source": [
    "case_id = vs_seg.keys()[0]\n",
    "image, mask = vs_seg[case_id]\n",
    "mask"
   ]
  }
 ],
 "metadata": {
  "kernelspec": {
   "display_name": "dev",
   "language": "python",
   "name": "python3"
  },
  "language_info": {
   "codemirror_mode": {
    "name": "ipython",
    "version": 3
   },
   "file_extension": ".py",
   "mimetype": "text/x-python",
   "name": "python",
   "nbconvert_exporter": "python",
   "pygments_lexer": "ipython3",
   "version": "3.12.8"
  }
 },
 "nbformat": 4,
 "nbformat_minor": 2
}
