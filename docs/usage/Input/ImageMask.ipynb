{
 "cells": [
  {
   "cell_type": "markdown",
   "metadata": {},
   "source": [
    "# Loading Images and Masks from DICOMs"
   ]
  },
  {
   "cell_type": "code",
   "execution_count": null,
   "metadata": {},
   "outputs": [],
   "source": [
    "from imgtools.ops.input_classes import ImageMaskInput, ImageMaskModalities\n",
    "from imgtools.logging import logger\n",
    "from pathlib import Path\n",
    "\n",
    "logger.setLevel(\"ERROR\")"
   ]
  },
  {
   "cell_type": "markdown",
   "metadata": {},
   "source": [
    "## Getting Started\n",
    "\n",
    "You need the following at minimum:\n",
    "- Path to the directory containing the DICOM files\n",
    "- Establish which Image and Mask modalities you want to use:\n",
    "Combinations are:  \n",
    "\n",
    "| Image Modality | Mask Modality |\n",
    "|----------------|---------------|\n",
    "| CT             | RTSTRUCT      |\n",
    "| MR             | RTSTRUCT      |\n",
    "| CT             | SEG      |\n",
    "| MR             | SEG      |"
   ]
  },
  {
   "cell_type": "markdown",
   "metadata": {},
   "source": [
    "For this tutorial we will download two datasets:\n"
   ]
  },
  {
   "cell_type": "code",
   "execution_count": 2,
   "metadata": {},
   "outputs": [],
   "source": [
    "# Define the path to the data\n",
    "testdata = Path(\"testdata\")\n",
    "# for this tutorial we will use some test image data\n",
    "datasets_name = [\"NSCLC-Radiomics\", \"Vestibular-Schwannoma-SEG\"]"
   ]
  },
  {
   "cell_type": "code",
   "execution_count": null,
   "metadata": {},
   "outputs": [],
   "source": [
    "%%capture \n",
    "# download data using the imgtools cli\n",
    "!imgtools testdata -a Vestibular-Schwannoma-SEG.tar.gz -a NSCLC-Radiomics.tar.gz {testdata.absolute()}"
   ]
  },
  {
   "cell_type": "markdown",
   "metadata": {},
   "source": [
    "## Setting up the loaders with `ImageMaskInput`"
   ]
  },
  {
   "cell_type": "markdown",
   "metadata": {},
   "source": [
    "### Vestibular-Schwannoma-SEG\n",
    "\n",
    "has MR as scan and RTSTRUCT as mask:\n",
    "\n",
    "\n",
    "| Patient ID           | Modality  | Number of Series    |\n",
    "|----------------------|-----------|---------------------|\n",
    "| VS-SEG-001           | MR        | 2                   |\n",
    "| VS-SEG-001           | RTSTRUCT  | 2                   |\n",
    "| VS-SEG-002           | MR        | 2                   |\n",
    "| VS-SEG-002           | RTSTRUCT  | 2                   |"
   ]
  },
  {
   "cell_type": "code",
   "execution_count": 4,
   "metadata": {},
   "outputs": [
    {
     "name": "stderr",
     "output_type": "stream",
     "text": [
      "\u001b[2m2025-02-13T14:19:15-0500\u001b[0m [\u001b[33m\u001b[1mwarning  \u001b[0m] \u001b[1mThe dataset has already been indexed. Use update_crawl to force update.\u001b[0m [\u001b[0m\u001b[1m\u001b[34mimgtools\u001b[0m]\u001b[0m \u001b[36mcall\u001b[0m=\u001b[35minput_classes._crawl:194\u001b[0m\n"
     ]
    },
    {
     "name": "stdout",
     "output_type": "stream",
     "text": [
      "ImageMaskInput<\n",
      "\tnum_cases=4,\n",
      "\tdataset_name='Vestibular-Schwannoma-SEG',\n",
      "\tmodalities=<MR,RTSTRUCT>,\n",
      "\toutput_streams=['MR', 'RTSTRUCT_MR'],\n",
      "\tseries_col_names=['series_MR', 'series_RTSTRUCT_MR'],\n",
      ">\n"
     ]
    }
   ],
   "source": [
    "vs_seg = ImageMaskInput(\n",
    "  dir_path=testdata / datasets_name[1],\n",
    "  modalities=ImageMaskModalities.MR_RTSTRUCT\n",
    ")\n",
    "\n",
    "print(vs_seg)"
   ]
  },
  {
   "cell_type": "markdown",
   "metadata": {},
   "source": [
    "### NSCLC-Radiomics\n",
    "\n",
    "has CT as scan and BOTH RTSTRUCT and SEG as masks.\n",
    "\n",
    "| Patient ID           | Modality  | Number of Series    |\n",
    "|----------------------|-----------|---------------------|\n",
    "| LUNG1-001            | CT        | 1                   |\n",
    "| LUNG1-001            | RTSTRUCT  | 1                   |\n",
    "| LUNG1-001            | SEG       | 1                   |\n",
    "| LUNG1-002            | CT        | 1                   |\n",
    "| LUNG1-002            | RTSTRUCT  | 1                   |\n",
    "| LUNG1-002            | SEG       | 1                   |"
   ]
  },
  {
   "cell_type": "code",
   "execution_count": 5,
   "metadata": {},
   "outputs": [
    {
     "name": "stderr",
     "output_type": "stream",
     "text": [
      "\u001b[2m2025-02-13T14:19:15-0500\u001b[0m [\u001b[33m\u001b[1mwarning  \u001b[0m] \u001b[1mThe dataset has already been indexed. Use update_crawl to force update.\u001b[0m [\u001b[0m\u001b[1m\u001b[34mimgtools\u001b[0m]\u001b[0m \u001b[36mcall\u001b[0m=\u001b[35minput_classes._crawl:194\u001b[0m\n"
     ]
    },
    {
     "name": "stdout",
     "output_type": "stream",
     "text": [
      "ImageMaskInput<\n",
      "\tnum_cases=2,\n",
      "\tdataset_name='NSCLC-Radiomics',\n",
      "\tmodalities=<CT,RTSTRUCT>,\n",
      "\toutput_streams=['CT', 'RTSTRUCT_CT'],\n",
      "\tseries_col_names=['series_CT', 'series_RTSTRUCT_CT'],\n",
      ">\n"
     ]
    }
   ],
   "source": [
    "nsclsc_rtstruct = ImageMaskInput(\n",
    "    dir_path=testdata / datasets_name[0],\n",
    "    modalities=ImageMaskModalities.CT_RTSTRUCT\n",
    ")\n",
    "print(nsclsc_rtstruct)"
   ]
  },
  {
   "cell_type": "code",
   "execution_count": 6,
   "metadata": {},
   "outputs": [
    {
     "name": "stderr",
     "output_type": "stream",
     "text": [
      "\u001b[2m2025-02-13T14:19:15-0500\u001b[0m [\u001b[33m\u001b[1mwarning  \u001b[0m] \u001b[1mThe dataset has already been indexed. Use update_crawl to force update.\u001b[0m [\u001b[0m\u001b[1m\u001b[34mimgtools\u001b[0m]\u001b[0m \u001b[36mcall\u001b[0m=\u001b[35minput_classes._crawl:194\u001b[0m\n"
     ]
    },
    {
     "name": "stdout",
     "output_type": "stream",
     "text": [
      "ImageMaskInput<\n",
      "\tnum_cases=2,\n",
      "\tdataset_name='NSCLC-Radiomics',\n",
      "\tmodalities=<CT,SEG>,\n",
      "\toutput_streams=['CT', 'SEG'],\n",
      "\tseries_col_names=['series_CT', 'series_SEG'],\n",
      ">\n"
     ]
    }
   ],
   "source": [
    "nsclsc_seg = ImageMaskInput(\n",
    "    dir_path=testdata / datasets_name[0],\n",
    "    modalities=ImageMaskModalities.CT_SEG\n",
    ")\n",
    "print(nsclsc_seg)"
   ]
  },
  {
   "cell_type": "markdown",
   "metadata": {},
   "source": [
    "## Using the Input Datasets"
   ]
  },
  {
   "cell_type": "code",
   "execution_count": 7,
   "metadata": {},
   "outputs": [
    {
     "name": "stdout",
     "output_type": "stream",
     "text": [
      "['0_LUNG1-002', '1_LUNG1-001']\n"
     ]
    }
   ],
   "source": [
    "# List the case IDs (subject IDs)\n",
    "print(nsclsc_rtstruct.keys())"
   ]
  },
  {
   "cell_type": "markdown",
   "metadata": {},
   "source": [
    "### Load a case"
   ]
  },
  {
   "cell_type": "code",
   "execution_count": 14,
   "metadata": {},
   "outputs": [],
   "source": [
    "# by case ID or index\n",
    "caseid = '0_LUNG1-002'\n",
    "case = nsclsc_rtstruct[caseid]\n",
    "# get the image and mask \n",
    "image = case.CT \n",
    "structureset = case.RTSTRUCT"
   ]
  },
  {
   "cell_type": "code",
   "execution_count": 15,
   "metadata": {},
   "outputs": [
    {
     "data": {
      "text/plain": [
       "Scan<\n",
       "\tBodyPartExamined=LUNG\n",
       "\tSliceThickness=3.00000\n",
       "\tPatientPosition=HFS\n",
       "\tManufacturer=CMS, Inc.\n",
       "\tRescaleSlope=1\n",
       "\tManufacturerModelName=XiO\n",
       "\tPixelSize=('0.9770', '0.9770', '3.00000')\n",
       "\tKVP=None, size=(512, 512, 111)\n",
       "\tspacing=(0.977, 0.977, 3.0)\n",
       "\torigin=(-250.112, -250.112, -133.4)\n",
       "\tdirection=(1.0, 0.0, 0.0, 0.0, 1.0, 0.0, 0.0, 0.0, 1.0)\n",
       ">"
      ]
     },
     "execution_count": 15,
     "metadata": {},
     "output_type": "execute_result"
    }
   ],
   "source": [
    "#view\n",
    "image"
   ]
  },
  {
   "cell_type": "markdown",
   "metadata": {},
   "source": [
    "### StructureSets need to be converted to `Segmentation` objects"
   ]
  },
  {
   "cell_type": "code",
   "execution_count": 17,
   "metadata": {},
   "outputs": [
    {
     "name": "stdout",
     "output_type": "stream",
     "text": [
      "\n",
      "<StructureSet\n",
      "\tROIs: ['Esophagus', 'GTV-1', 'Heart', 'Lung-Left', 'Lung-Right', 'Spinal-Cord']\n",
      "\tMetadata:\n",
      "\t\tPatientID: LUNG1-002\n",
      "\t\tStudyInstanceUID: 85095 (truncated)\n",
      "\t\tSeriesInstanceUID: 45931 (truncated)\n",
      "\t\tModality: RTSTRUCT\n",
      "\t\tReferencedSeriesInstanceUID: 61228 (truncated)\n",
      "\t\tOriginalNumberOfROIs: 6\n",
      "\t\tExtractedNumberOfROIs: 6\n",
      "\t\tManufacturer: Varian Medical Systems\n",
      "\t\tManufacturerModelName: ARIA RadOnc\n",
      "\t\tnumROIs: 6\n",
      ">\n"
     ]
    },
    {
     "data": {
      "text/plain": [
       "<Segmentation with ROIs: {'GTV-1': 1}>"
      ]
     },
     "execution_count": 17,
     "metadata": {},
     "output_type": "execute_result"
    }
   ],
   "source": [
    "#view\n",
    "print(structureset)\n",
    "mask = structureset.to_segmentation(image, \"GTV-1\")\n",
    "mask"
   ]
  },
  {
   "cell_type": "markdown",
   "metadata": {},
   "source": [
    "### Whereas native `SEG` modalities get loaded as `Segmentation` objects"
   ]
  },
  {
   "cell_type": "code",
   "execution_count": 20,
   "metadata": {},
   "outputs": [
    {
     "data": {
      "text/plain": [
       "<Segmentation with ROIs: {'label_1': 1}>"
      ]
     },
     "execution_count": 20,
     "metadata": {},
     "output_type": "execute_result"
    }
   ],
   "source": [
    "# by case ID or index\n",
    "caseid = nsclsc_seg.keys()[0]\n",
    "case_seg = nsclsc_seg[caseid]\n",
    "image = case_seg.CT\n",
    "mask = case_seg.SEG\n",
    "mask"
   ]
  },
  {
   "cell_type": "markdown",
   "metadata": {},
   "source": [
    "### MR & RTSTRUCT example"
   ]
  },
  {
   "cell_type": "code",
   "execution_count": 23,
   "metadata": {},
   "outputs": [
    {
     "name": "stdout",
     "output_type": "stream",
     "text": [
      "['*Skull', 'TV', 'cochlea']\n"
     ]
    }
   ],
   "source": [
    "case_id = vs_seg.keys()[0]\n",
    "case = vs_seg[case_id]\n",
    "image = case.MR\n",
    "structureset = case.RTSTRUCT\n",
    "print(structureset.roi_names)"
   ]
  },
  {
   "cell_type": "code",
   "execution_count": null,
   "metadata": {},
   "outputs": [
    {
     "data": {
      "text/plain": [
       "<Segmentation with ROIs: {'TV': 1}>"
      ]
     },
     "execution_count": 25,
     "metadata": {},
     "output_type": "execute_result"
    }
   ],
   "source": [
    "mask = structureset.to_segmentation(image, \"TV\")\n",
    "mask"
   ]
  }
 ],
 "metadata": {
  "kernelspec": {
   "display_name": "dev",
   "language": "python",
   "name": "python3"
  },
  "language_info": {
   "codemirror_mode": {
    "name": "ipython",
    "version": 3
   },
   "file_extension": ".py",
   "mimetype": "text/x-python",
   "name": "python",
   "nbconvert_exporter": "python",
   "pygments_lexer": "ipython3",
   "version": "3.12.8"
  }
 },
 "nbformat": 4,
 "nbformat_minor": 2
}
