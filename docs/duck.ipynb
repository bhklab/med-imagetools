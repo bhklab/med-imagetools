{
 "cells": [
  {
   "cell_type": "code",
   "execution_count": 10,
   "metadata": {},
   "outputs": [],
   "source": [
    "# # Visualize it\n",
    "%matplotlib ipympl\n",
    "import ipywidgets as widgets\n",
    "import matplotlib.pyplot as plt\n",
    "import numpy as np\n",
    "import plotly.graph_objects as go\n",
    "import SimpleITK as sitk\n",
    "import trimesh\n",
    "from IPython.display import display\n",
    "from ipywidgets import interactive, widgets\n",
    "from scipy.ndimage import binary_fill_holes, distance_transform_edt\n",
    "\n",
    "from imgtools.ops import Resize\n",
    "\n",
    "\n",
    "def mesh_to_voxels(filepath: str, resolution: int = 1024, pad: int = 5) -> sitk.Image:\n",
    "\t\"\"\"\n",
    "\tLoad a 3D model and convert it to a filled voxel representation with edge fading.\n",
    "\n",
    "\tParameters\n",
    "\t----------\n",
    "\tfilepath : str\n",
    "\t\tPath to the .glb or .gltf file.\n",
    "\tresolution : int, optional\n",
    "\t\tResolution of the voxel grid (higher = finer details).\n",
    "\tpad : int, optional\n",
    "\t\tAmount of padding to add around the voxelized object.\n",
    "\n",
    "\tReturns\n",
    "\t-------\n",
    "\tsitk.Image\n",
    "\t\t3D SimpleITK image with voxel intensities ranging from 0 (background) to 0.8 (inner regions).\n",
    "\t\"\"\"\n",
    "\t# Load mesh\n",
    "\tmesh = trimesh.load_mesh(filepath)\n",
    "\n",
    "\t# Get voxel grid\n",
    "\tvoxel_grid = mesh.voxelized(pitch=mesh.scale / resolution)\n",
    "\tvoxel_array = voxel_grid.matrix.astype(np.uint8)\n",
    "\n",
    "\t# Fill internal holes to ensure a solid object\n",
    "\tvoxel_filled = binary_fill_holes(voxel_array).astype(np.uint8)\n",
    "\n",
    "\t# Apply a distance transform inside the filled object\n",
    "\tdistances = distance_transform_edt(voxel_filled)\n",
    "\n",
    "\t# Normalize distances (0 at edges, max at center)\n",
    "\tdistances = distances / np.max(distances)\n",
    "\t# Convert to intensity (center = 1, edge = 0.8) for non-zero distances\n",
    "\tvoxel_intensity = np.where(distances > 0, 0.7 + (distances * 0.1), 0)\n",
    "\n",
    "\t# Rotate counterclockwise along z-axis\n",
    "\tvoxel_intensity = np.rot90(voxel_intensity, 1, (0, 1))\n",
    "\n",
    "\t# Pad the array to ensure no clipping at edges\n",
    "\tvoxel_padded = np.pad(voxel_intensity, pad_width=pad, mode=\"constant\", constant_values=0)\n",
    "\n",
    "\t# Convert to SimpleITK Image\n",
    "\tsimage = sitk.GetImageFromArray(voxel_padded)\n",
    "\n",
    "\treturn simage"
   ]
  },
  {
   "cell_type": "code",
   "execution_count": 11,
   "metadata": {},
   "outputs": [
    {
     "name": "stdout",
     "output_type": "stream",
     "text": [
      "(89, 95, 69)\n"
     ]
    }
   ],
   "source": [
    "\n",
    "image: sitk.Image = mesh_to_voxels(\"rubber_inflatable_duck.glb\", resolution=128)\n",
    "print(image.GetSize())\n",
    "resizer = Resize(size = 100, interpolation='linear')\n",
    "image = resizer(image)\n",
    "\n",
    "\n",
    "image = sitk.Flip(image, [True, True, True])"
   ]
  },
  {
   "cell_type": "code",
   "execution_count": 12,
   "metadata": {},
   "outputs": [],
   "source": [
    "\n",
    "\n",
    "class VoxelVisualizer:\n",
    "\t\"\"\"\n",
    "\tClass for visualizing voxelized 3D models with both 2D slice views and 3D rendering.\n",
    "\n",
    "\tAttributes\n",
    "\t----------\n",
    "\timage : np.ndarray\n",
    "\t\t3D numpy array representing the filled voxel model.\n",
    "\tslices_x : list of np.ndarray\n",
    "\t\tPrecomputed YZ slices along the X-axis.\n",
    "\tslices_y : list of np.ndarray\n",
    "\t\tPrecomputed XZ slices along the Y-axis.\n",
    "\tslices_z : list of np.ndarray\n",
    "\t\tPrecomputed XY slices along the Z-axis.\n",
    "\tslice_images_x : list of matplotlib Figures\n",
    "\t\tPrecomputed Matplotlib figures for YZ slices.\n",
    "\tslice_images_y : list of matplotlib Figures\n",
    "\t\tPrecomputed Matplotlib figures for XZ slices.\n",
    "\tslice_images_z : list of matplotlib Figures\n",
    "\t\tPrecomputed Matplotlib figures for XY slices.\n",
    "\t\"\"\"\n",
    "\tdef __init__(self, image: np.ndarray) -> None:\n",
    "\t\t\"\"\"\n",
    "\t\tInitialize the voxel visualizer with a precomputed voxel array\n",
    "\t\tand precompute 2D slice images.\n",
    "\n",
    "\t\tParameters\n",
    "\t\t----------\n",
    "\t\timage : np.ndarray\n",
    "\t\t\t3D numpy array representing the filled voxel model.\n",
    "\t\t\"\"\"\n",
    "\t\tmatch image:\n",
    "\t\t\tcase sitk.Image():\n",
    "\t\t\t\tself.image = sitk.GetArrayFromImage(image)\n",
    "\t\t\tcase np.ndarray():\n",
    "\t\t\t\tself.image = image\n",
    "\n",
    "\t\t# Compute slices\n",
    "\t\tself.slices_x = [self.image[i, :, :] for i in range(self.image.shape[0])]\n",
    "\t\tself.slices_y = [self.image[:, i, :] for i in range(self.image.shape[1])]\n",
    "\t\tself.slices_z = [self.image[:, :, i] for i in range(self.image.shape[2])]\n",
    "\n",
    "\t\t# Store max indices and start positions\n",
    "\t\tself.max_x, self.max_y, self.max_z = self.image.shape[0] - 1, self.image.shape[1] - 1, self.image.shape[2] - 1\n",
    "\t\tself.start_x, self.start_y, self.start_z = self.max_x // 2, self.max_y // 2, self.max_z // 2\n",
    "\t\t# get the vmax of the image\n",
    "\t\tself.vmax = np.max(self.image)\n",
    "\t\tself.vmin = np.min(self.image)\n",
    "\t\t# Precompute Matplotlib figures\n",
    "\t\tself.slice_images_x = self._precompute_images(self.slices_x, \"YZ Slice\")\n",
    "\t\tself.slice_images_y = self._precompute_images(self.slices_y, \"XZ Slice\")\n",
    "\t\tself.slice_images_z = self._precompute_images(self.slices_z, \"XY Slice\")\n",
    "\n",
    "\n",
    "\tdef _precompute_images(self, slices: list[np.ndarray], title_prefix: str) -> list[plt.Figure]:\n",
    "\t\t\"\"\"\n",
    "\t\tPrecompute Matplotlib figures for all slices.\n",
    "\n",
    "\t\tParameters\n",
    "\t\t----------\n",
    "\t\tslices : list of np.ndarray\n",
    "\t\t\tList of 2D slices to visualize.\n",
    "\t\ttitle_prefix : str\n",
    "\t\t\tTitle prefix for the slice (e.g., \"YZ Slice\").\n",
    "\n",
    "\t\tReturns\n",
    "\t\t-------\n",
    "\t\tlist of plt.Figure\n",
    "\t\t\tList of precomputed Matplotlib figures.\n",
    "\t\t\"\"\"\n",
    "\t\tfigs = []\n",
    "\t\tfor i, slice_img in enumerate(slices):\n",
    "\t\t\tfig, ax = plt.subplots(figsize=(5, 5))\n",
    "\t\t\tax.imshow(slice_img, vmax = self.vmax, vmin = self.vmin)\n",
    "\t\t\tax.set_title(f\"{title_prefix} {i}\")\n",
    "\t\t\tax.axis(\"off\")\n",
    "\t\t\tfigs.append(fig)\n",
    "\t\t\tplt.close(fig)  # Close to prevent rendering during initialization\n",
    "\t\treturn figs\n",
    "\n",
    "\tdef visualize_slices(self) -> None:\n",
    "\t\t\"\"\"\n",
    "\t\tDisplay an interactive widget for selecting precomputed slices.\n",
    "\t\t\"\"\"\n",
    "\t\t# Sliders\n",
    "\t\tslice_slider_x = widgets.IntSlider(value=self.start_x, min=0, max=self.max_x, step=1, description=f\"X Slice ({self.max_x + 1} total):\")\n",
    "\t\tslice_slider_y = widgets.IntSlider(value=self.start_y, min=0, max=self.max_y, step=1, description=f\"Y Slice ({self.max_y + 1} total):\")\n",
    "\t\tslice_slider_z = widgets.IntSlider(value=self.start_z, min=0, max=self.max_z, step=1, description=f\"Z Slice ({self.max_z + 1} total):\")\n",
    "\n",
    "\t\t# Output areas for displaying images\n",
    "\t\toutput_x = widgets.Output()\n",
    "\t\toutput_y = widgets.Output()\n",
    "\t\toutput_z = widgets.Output()\n",
    "\n",
    "\t\tdef update_slices(change: None = None) -> None:\n",
    "\t\t\t# Update slice views by displaying precomputed images\n",
    "\t\t\twith output_x:\n",
    "\t\t\t\toutput_x.clear_output(wait=True)\n",
    "\t\t\t\tdisplay(self.slice_images_x[slice_slider_x.value])\n",
    "\n",
    "\t\t\twith output_y:\n",
    "\t\t\t\toutput_y.clear_output(wait=True)\n",
    "\t\t\t\tdisplay(self.slice_images_y[slice_slider_y.value])\n",
    "\n",
    "\t\t\twith output_z:\n",
    "\t\t\t\toutput_z.clear_output(wait=True)\n",
    "\t\t\t\tdisplay(self.slice_images_z[slice_slider_z.value])\n",
    "\n",
    "\t\t# Observe slider changes\n",
    "\t\tslice_slider_x.observe(update_slices, names=\"value\")\n",
    "\t\tslice_slider_y.observe(update_slices, names=\"value\")\n",
    "\t\tslice_slider_z.observe(update_slices, names=\"value\")\n",
    "\n",
    "\t\t# Initial display\n",
    "\t\tupdate_slices()\n",
    "\n",
    "\t\t# Display sliders and image outputs\n",
    "\t\tdisplay(slice_slider_x, output_x, slice_slider_y, output_y, slice_slider_z, output_z)\n",
    "\n",
    "\tdef visualize_3d(self) -> None:\n",
    "\t\t\"\"\"\n",
    "\t\tVisualize the voxelized 3D object using Plotly Scatter3d.\n",
    "\t\t\"\"\"\n",
    "\t\t# Extract voxel positions where the object exists\n",
    "\t\tx, y, z = np.where(self.image > 0)\n",
    "\t\tvalues = self.image[x, y, z]  # Extract voxel values for coloring\n",
    "\n",
    "\t\t# Create a colormap\n",
    "\t\tcolors = np.array(['blue' if val <= 1 else 'red' for val in values])\n",
    "\n",
    "\t\t# Create a 3D scatter plot\n",
    "\t\tfig = go.Figure(data=go.Scatter3d(\n",
    "\t\t\tx=x, y=y, z=z,\n",
    "\t\t\tmode='markers',\n",
    "\t\t\tmarker=dict(\n",
    "\t\t\t\tsize=1,  # Size of each voxel\n",
    "\t\t\t\tcolor=colors,  # Color based on voxel values\n",
    "\t\t\t\topacity=0.1  # Transparency\n",
    "\t\t\t)\n",
    "\t\t))\n",
    "\n",
    "\t\t# Adjust layout\n",
    "\t\tfig.update_layout(scene=dict(\n",
    "\t\t\txaxis=dict(nticks=10, range=[0, self.image.shape[0]]),\n",
    "\t\t\tyaxis=dict(nticks=10, range=[0, self.image.shape[1]]),\n",
    "\t\t\tzaxis=dict(nticks=10, range=[0, self.image.shape[2]]),\n",
    "\t\t),\n",
    "\t\ttitle=\"3D Voxelized Model\"\n",
    "\t\t)\n",
    "\t\t\n",
    "\t\tfig.show()\n",
    "\n"
   ]
  },
  {
   "cell_type": "code",
   "execution_count": 13,
   "metadata": {},
   "outputs": [
    {
     "data": {
      "application/vnd.jupyter.widget-view+json": {
       "model_id": "3ad4d2ec21164c6192db06694116c57a",
       "version_major": 2,
       "version_minor": 0
      },
      "text/plain": [
       "IntSlider(value=49, description='X Slice (100 total):', max=99)"
      ]
     },
     "metadata": {},
     "output_type": "display_data"
    },
    {
     "data": {
      "application/vnd.jupyter.widget-view+json": {
       "model_id": "0aa22d37af374a99985e9c599b93d1d6",
       "version_major": 2,
       "version_minor": 0
      },
      "text/plain": [
       "Output()"
      ]
     },
     "metadata": {},
     "output_type": "display_data"
    },
    {
     "data": {
      "application/vnd.jupyter.widget-view+json": {
       "model_id": "aa734ea1e60941f8a29d69b249cd2c40",
       "version_major": 2,
       "version_minor": 0
      },
      "text/plain": [
       "IntSlider(value=49, description='Y Slice (100 total):', max=99)"
      ]
     },
     "metadata": {},
     "output_type": "display_data"
    },
    {
     "data": {
      "application/vnd.jupyter.widget-view+json": {
       "model_id": "697a0e3eb4544114bfaffbc5113389e6",
       "version_major": 2,
       "version_minor": 0
      },
      "text/plain": [
       "Output()"
      ]
     },
     "metadata": {},
     "output_type": "display_data"
    },
    {
     "data": {
      "application/vnd.jupyter.widget-view+json": {
       "model_id": "e2e138746a8e4469ac79f8289e5df5cd",
       "version_major": 2,
       "version_minor": 0
      },
      "text/plain": [
       "IntSlider(value=49, description='Z Slice (100 total):', max=99)"
      ]
     },
     "metadata": {},
     "output_type": "display_data"
    },
    {
     "data": {
      "application/vnd.jupyter.widget-view+json": {
       "model_id": "4c707139abe344c08a1fde94fb9b53fe",
       "version_major": 2,
       "version_minor": 0
      },
      "text/plain": [
       "Output()"
      ]
     },
     "metadata": {},
     "output_type": "display_data"
    }
   ],
   "source": [
    "# Example usage\n",
    "visualizer = VoxelVisualizer(image) \n",
    "\n",
    "# visualizer.visualize_slices()\n"
   ]
  },
  {
   "cell_type": "code",
   "execution_count": 14,
   "metadata": {},
   "outputs": [],
   "source": [
    "star_image = mesh_to_voxels(\"star.glb\", resolution=128, pad=10)\n",
    "resizer = Resize(size = 20, interpolation='linear', anti_alias=True)\n",
    "star_image = resizer(star_image)\n",
    "\n",
    "# flip image on Y axis\n",
    "star_image = sitk.Flip(star_image, [False, True, False])\n",
    "\n",
    "# star_visualizer = VoxelVisualizer(star_image)\n",
    "\n",
    "# star_visualizer.visualize_slices()\n",
    "\n"
   ]
  },
  {
   "cell_type": "code",
   "execution_count": 17,
   "metadata": {},
   "outputs": [
    {
     "name": "stdout",
     "output_type": "stream",
     "text": [
      "(100, 100, 100) (100, 100, 100)\n"
     ]
    },
    {
     "data": {
      "application/vnd.jupyter.widget-view+json": {
       "model_id": "8cb5d4e5d3524a63b3a52bf6ee8fb672",
       "version_major": 2,
       "version_minor": 0
      },
      "text/plain": [
       "IntSlider(value=49, description='X Slice (100 total):', max=99)"
      ]
     },
     "metadata": {},
     "output_type": "display_data"
    },
    {
     "data": {
      "application/vnd.jupyter.widget-view+json": {
       "model_id": "9eed172c9dde413c9c1806c08a812616",
       "version_major": 2,
       "version_minor": 0
      },
      "text/plain": [
       "Output()"
      ]
     },
     "metadata": {},
     "output_type": "display_data"
    },
    {
     "data": {
      "application/vnd.jupyter.widget-view+json": {
       "model_id": "21c8ca5dc7ac41a88198054091b2e2af",
       "version_major": 2,
       "version_minor": 0
      },
      "text/plain": [
       "IntSlider(value=49, description='Y Slice (100 total):', max=99)"
      ]
     },
     "metadata": {},
     "output_type": "display_data"
    },
    {
     "data": {
      "application/vnd.jupyter.widget-view+json": {
       "model_id": "a026ab14236e493b9720e815dac5cac5",
       "version_major": 2,
       "version_minor": 0
      },
      "text/plain": [
       "Output()"
      ]
     },
     "metadata": {},
     "output_type": "display_data"
    },
    {
     "data": {
      "application/vnd.jupyter.widget-view+json": {
       "model_id": "2a862d1153ab493d8fe784c4961ce8c5",
       "version_major": 2,
       "version_minor": 0
      },
      "text/plain": [
       "IntSlider(value=49, description='Z Slice (100 total):', max=99)"
      ]
     },
     "metadata": {},
     "output_type": "display_data"
    },
    {
     "data": {
      "application/vnd.jupyter.widget-view+json": {
       "model_id": "c9779e3114e24a23a2d50539b727fbbc",
       "version_major": 2,
       "version_minor": 0
      },
      "text/plain": [
       "Output()"
      ]
     },
     "metadata": {},
     "output_type": "display_data"
    }
   ],
   "source": [
    "import numpy as np\n",
    "import SimpleITK as sitk\n",
    "\n",
    "\n",
    "def insert_star_into_duck(\n",
    "    duck: sitk.Image, star: sitk.Image, position: tuple[int, int, int]\n",
    ") -> tuple[sitk.Image, sitk.Image]:\n",
    "    \"\"\"\n",
    "    Insert a star-shaped voxel object into a larger duck volume at a specified position.\n",
    "\n",
    "    Parameters\n",
    "    ----------\n",
    "    duck : sitk.Image\n",
    "        The 3D SimpleITK image of the duck.\n",
    "    star : sitk.Image\n",
    "        The 3D SimpleITK image of the star.\n",
    "    position : tuple[int, int, int]\n",
    "        The (x, y, z) coordinates where the star should be placed inside the duck.\n",
    "\n",
    "    Returns\n",
    "    -------\n",
    "    tuple[sitk.Image, sitk.Image]\n",
    "        A tuple containing:\n",
    "        - The modified duck image with the star embedded.\n",
    "        - A binary mask image where the star is represented as 1, and the rest is 0.\n",
    "    \"\"\"\n",
    "    # Convert to NumPy arrays\n",
    "    duck_array = sitk.GetArrayFromImage(duck)\n",
    "    star_array = sitk.GetArrayFromImage(star)\n",
    "\n",
    "    # Create an empty mask array\n",
    "    mask_array = np.zeros_like(duck_array, dtype=np.uint8)\n",
    "    \n",
    "    # Convert star values greater than 0 to 2 in the duck\n",
    "    star_array[star_array > 0] = 1\n",
    "\n",
    "    # Get dimensions\n",
    "    dx, dy, dz = duck_array.shape\n",
    "    sx, sy, sz = star_array.shape\n",
    "    px, py, pz = position  # Position where the star will be inserted\n",
    "\n",
    "    # Ensure the star fits within the duck volume\n",
    "    if px + sx > dx or py + sy > dy or pz + sz > dz:\n",
    "        raise ValueError(\"Star does not fit inside the duck at the specified position!\")\n",
    "\n",
    "    # Insert star into the duck array (preserving intensity values)\n",
    "    duck_array[px:px + sx, py:py + sy, pz:pz + sz] = np.maximum(\n",
    "        duck_array[px:px + sx, py:py + sy, pz:pz + sz], star_array\n",
    "    )\n",
    "    \n",
    "    # duck_array values are between 0 and 1\n",
    "    # we want to convert them to 0 and 255\n",
    "    duck_array = (duck_array * 255).astype(np.uint8)\n",
    "\n",
    "    # Create binary mask for the star\n",
    "    # mask_array[px:px + sx, py:py + sy, pz:pz + sz] = (star_array == 2).astype(np.uint8)\n",
    "    # get the binary mask from the new duckarray\n",
    "\n",
    "    mask_array = (duck_array == 2).astype(np.uint8)\n",
    "\n",
    "\n",
    "    # Convert back to SimpleITK images\n",
    "    merged_duck = sitk.GetImageFromArray(duck_array)\n",
    "    mask_image = sitk.GetImageFromArray(mask_array)\n",
    "\n",
    "    return merged_duck, mask_image\n",
    "\n",
    "\n",
    "merged_image, mask_image = insert_star_into_duck(image, star_image, position=(65, 20, 40))\n",
    "\n",
    "merged_path = \"merged_duck_with_star.nii.gz\"\n",
    "mask_path = \"star_mask.nii.gz\"\n",
    "\n",
    "sitk.WriteImage(merged_image, merged_path)\n",
    "sitk.WriteImage(mask_image, mask_path)\n",
    "\n",
    "print(f\"{merged_image.GetSize()} {mask_image.GetSize()}\")\n",
    "\n",
    "merged_visualizer = VoxelVisualizer(merged_image)\n",
    "\n",
    "merged_visualizer.visualize_slices()\n"
   ]
  },
  {
   "cell_type": "code",
   "execution_count": 25,
   "metadata": {},
   "outputs": [
    {
     "data": {
      "application/vnd.jupyter.widget-view+json": {
       "model_id": "dd4ab0894e364e0382552fa65e82af44",
       "version_major": 2,
       "version_minor": 0
      },
      "image/png": "[encoded data removed]",
      "text/html": [
       "\n",
       "            <div style=\"display: inline-block;\">\n",
       "                <div class=\"jupyter-widgets widget-label\" style=\"text-align: center;\">\n",
       "                    Figure 1\n",
       "                </div>\n",
       "                <img src='data:image/png;base64,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' width=640.0/>\n",
       "            </div>\n",
       "        "
      ],
      "text/plain": [
       "Canvas(toolbar=Toolbar(toolitems=[('Home', 'Reset original view', 'home', 'home'), ('Back', 'Back to previous …"
      ]
     },
     "metadata": {},
     "output_type": "display_data"
    }
   ],
   "source": [
    "# histogram of values in the merged image that are greater than or equal to 1\n",
    "\n",
    "merged_array = sitk.GetArrayFromImage(merged_image)\n",
    "merged_array = merged_array[merged_array >= 1]\n",
    "\n",
    "plt.hist(merged_array, bins=50, color='c', alpha=0.7, rwidth=0.85)\n",
    "plt.xlabel('Value')\n",
    "plt.ylabel('Frequency')\n",
    "plt.title('Histogram of Values in Merged Image')\n",
    "plt.xlim(left=100)  # Set the lower limit of x-axis to be greater than 100\n",
    "\n",
    "plt.show()"
   ]
  }
 ],
 "metadata": {
  "kernelspec": {
   "display_name": "dev",
   "language": "python",
   "name": "python3"
  },
  "language_info": {
   "codemirror_mode": {
    "name": "ipython",
    "version": 3
   },
   "file_extension": ".py",
   "mimetype": "text/x-python",
   "name": "python",
   "nbconvert_exporter": "python",
   "pygments_lexer": "ipython3",
   "version": "3.12.8"
  }
 },
 "nbformat": 4,
 "nbformat_minor": 4
}
