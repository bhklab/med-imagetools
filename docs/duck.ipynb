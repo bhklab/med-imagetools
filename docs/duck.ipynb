{
 "cells": [
  {
   "cell_type": "code",
   "execution_count": 9,
   "metadata": {},
   "outputs": [],
   "source": [
    "# # Visualize it\n",
    "%matplotlib ipympl\n",
    "import ipywidgets as widgets\n",
    "import matplotlib.pyplot as plt\n",
    "import numpy as np\n",
    "import plotly.graph_objects as go\n",
    "import SimpleITK as sitk\n",
    "import trimesh\n",
    "from IPython.display import display\n",
    "from ipywidgets import interactive, widgets\n",
    "from scipy.ndimage import binary_fill_holes, distance_transform_edt\n",
    "\n",
    "from imgtools.ops import Resize\n",
    "\n",
    "\n",
    "def mesh_to_voxels(filepath: str, resolution: int = 1024, pad: int = 5) -> sitk.Image:\n",
    "\t\"\"\"\n",
    "\tLoad a 3D model and convert it to a filled voxel representation with edge fading.\n",
    "\n",
    "\tParameters\n",
    "\t----------\n",
    "\tfilepath : str\n",
    "\t\tPath to the .glb or .gltf file.\n",
    "\tresolution : int, optional\n",
    "\t\tResolution of the voxel grid (higher = finer details).\n",
    "\tpad : int, optional\n",
    "\t\tAmount of padding to add around the voxelized object.\n",
    "\n",
    "\tReturns\n",
    "\t-------\n",
    "\tsitk.Image\n",
    "\t\t3D SimpleITK image with voxel intensities ranging from 0 (background) to 0.8 (inner regions).\n",
    "\t\"\"\"\n",
    "\t# Load mesh\n",
    "\tmesh = trimesh.load_mesh(filepath)\n",
    "\n",
    "\t# Get voxel grid\n",
    "\tvoxel_grid = mesh.voxelized(pitch=mesh.scale / resolution)\n",
    "\tvoxel_array = voxel_grid.matrix.astype(np.uint8)\n",
    "\n",
    "\t# Fill internal holes to ensure a solid object\n",
    "\tvoxel_filled = binary_fill_holes(voxel_array).astype(np.uint8)\n",
    "\n",
    "\t# Apply a distance transform inside the filled object\n",
    "\tdistances = distance_transform_edt(voxel_filled)\n",
    "\n",
    "\t# Normalize distances (0 at edges, max at center)\n",
    "\tdistances = distances / np.max(distances)\n",
    "\t# Convert to intensity (center = 1, edge = 0.8) for non-zero distances\n",
    "\tvoxel_intensity = np.where(distances > 0, 0.8 + (distances * 0.1), 0)\n",
    "\n",
    "\t# Rotate counterclockwise along z-axis\n",
    "\tvoxel_intensity = np.rot90(voxel_intensity, 1, (0, 1))\n",
    "\n",
    "\t# Pad the array to ensure no clipping at edges\n",
    "\tvoxel_padded = np.pad(voxel_intensity, pad_width=pad, mode=\"constant\", constant_values=0)\n",
    "\n",
    "\t# Convert to SimpleITK Image\n",
    "\tsimage = sitk.GetImageFromArray(voxel_padded)\n",
    "\n",
    "\treturn simage"
   ]
  },
  {
   "cell_type": "code",
   "execution_count": 10,
   "metadata": {},
   "outputs": [
    {
     "name": "stdout",
     "output_type": "stream",
     "text": [
      "(89, 95, 69)\n"
     ]
    }
   ],
   "source": [
    "\n",
    "image: sitk.Image = mesh_to_voxels(\"rubber_inflatable_duck.glb\", resolution=128)\n",
    "print(image.GetSize())\n",
    "resizer = Resize(size = 100, interpolation='linear')\n",
    "image = resizer(image)\n",
    "\n",
    "\n",
    "image = sitk.Flip(image, [True, True, True])"
   ]
  },
  {
   "cell_type": "code",
   "execution_count": 11,
   "metadata": {},
   "outputs": [],
   "source": [
    "\n",
    "\n",
    "class VoxelVisualizer:\n",
    "\t\"\"\"\n",
    "\tClass for visualizing voxelized 3D models with both 2D slice views and 3D rendering.\n",
    "\n",
    "\tAttributes\n",
    "\t----------\n",
    "\timage : np.ndarray\n",
    "\t\t3D numpy array representing the filled voxel model.\n",
    "\tslices_x : list of np.ndarray\n",
    "\t\tPrecomputed YZ slices along the X-axis.\n",
    "\tslices_y : list of np.ndarray\n",
    "\t\tPrecomputed XZ slices along the Y-axis.\n",
    "\tslices_z : list of np.ndarray\n",
    "\t\tPrecomputed XY slices along the Z-axis.\n",
    "\tslice_images_x : list of matplotlib Figures\n",
    "\t\tPrecomputed Matplotlib figures for YZ slices.\n",
    "\tslice_images_y : list of matplotlib Figures\n",
    "\t\tPrecomputed Matplotlib figures for XZ slices.\n",
    "\tslice_images_z : list of matplotlib Figures\n",
    "\t\tPrecomputed Matplotlib figures for XY slices.\n",
    "\t\"\"\"\n",
    "\tdef __init__(self, image: np.ndarray) -> None:\n",
    "\t\t\"\"\"\n",
    "\t\tInitialize the voxel visualizer with a precomputed voxel array\n",
    "\t\tand precompute 2D slice images.\n",
    "\n",
    "\t\tParameters\n",
    "\t\t----------\n",
    "\t\timage : np.ndarray\n",
    "\t\t\t3D numpy array representing the filled voxel model.\n",
    "\t\t\"\"\"\n",
    "\t\tmatch image:\n",
    "\t\t\tcase sitk.Image():\n",
    "\t\t\t\tself.image = sitk.GetArrayFromImage(image)\n",
    "\t\t\tcase np.ndarray():\n",
    "\t\t\t\tself.image = image\n",
    "\n",
    "\t\t# Compute slices\n",
    "\t\tself.slices_x = [self.image[i, :, :] for i in range(self.image.shape[0])]\n",
    "\t\tself.slices_y = [self.image[:, i, :] for i in range(self.image.shape[1])]\n",
    "\t\tself.slices_z = [self.image[:, :, i] for i in range(self.image.shape[2])]\n",
    "\n",
    "\t\t# Store max indices and start positions\n",
    "\t\tself.max_x, self.max_y, self.max_z = self.image.shape[0] - 1, self.image.shape[1] - 1, self.image.shape[2] - 1\n",
    "\t\tself.start_x, self.start_y, self.start_z = self.max_x // 2, self.max_y // 2, self.max_z // 2\n",
    "\t\t# get the vmax of the image\n",
    "\t\tself.vmax = np.max(self.image)\n",
    "\t\tself.vmin = np.min(self.image)\n",
    "\t\t# Precompute Matplotlib figures\n",
    "\t\tself.slice_images_x = self._precompute_images(self.slices_x, \"YZ Slice\")\n",
    "\t\tself.slice_images_y = self._precompute_images(self.slices_y, \"XZ Slice\")\n",
    "\t\tself.slice_images_z = self._precompute_images(self.slices_z, \"XY Slice\")\n",
    "\n",
    "\n",
    "\tdef _precompute_images(self, slices: list[np.ndarray], title_prefix: str) -> list[plt.Figure]:\n",
    "\t\t\"\"\"\n",
    "\t\tPrecompute Matplotlib figures for all slices.\n",
    "\n",
    "\t\tParameters\n",
    "\t\t----------\n",
    "\t\tslices : list of np.ndarray\n",
    "\t\t\tList of 2D slices to visualize.\n",
    "\t\ttitle_prefix : str\n",
    "\t\t\tTitle prefix for the slice (e.g., \"YZ Slice\").\n",
    "\n",
    "\t\tReturns\n",
    "\t\t-------\n",
    "\t\tlist of plt.Figure\n",
    "\t\t\tList of precomputed Matplotlib figures.\n",
    "\t\t\"\"\"\n",
    "\t\tfigs = []\n",
    "\t\tfor i, slice_img in enumerate(slices):\n",
    "\t\t\tfig, ax = plt.subplots(figsize=(5, 5))\n",
    "\t\t\tax.imshow(slice_img, vmax = self.vmax, vmin = self.vmin)\n",
    "\t\t\tax.set_title(f\"{title_prefix} {i}\")\n",
    "\t\t\tax.axis(\"off\")\n",
    "\t\t\tfigs.append(fig)\n",
    "\t\t\tplt.close(fig)  # Close to prevent rendering during initialization\n",
    "\t\treturn figs\n",
    "\n",
    "\tdef visualize_slices(self) -> None:\n",
    "\t\t\"\"\"\n",
    "\t\tDisplay an interactive widget for selecting precomputed slices.\n",
    "\t\t\"\"\"\n",
    "\t\t# Sliders\n",
    "\t\tslice_slider_x = widgets.IntSlider(value=self.start_x, min=0, max=self.max_x, step=1, description=f\"X Slice ({self.max_x + 1} total):\")\n",
    "\t\tslice_slider_y = widgets.IntSlider(value=self.start_y, min=0, max=self.max_y, step=1, description=f\"Y Slice ({self.max_y + 1} total):\")\n",
    "\t\tslice_slider_z = widgets.IntSlider(value=self.start_z, min=0, max=self.max_z, step=1, description=f\"Z Slice ({self.max_z + 1} total):\")\n",
    "\n",
    "\t\t# Output areas for displaying images\n",
    "\t\toutput_x = widgets.Output()\n",
    "\t\toutput_y = widgets.Output()\n",
    "\t\toutput_z = widgets.Output()\n",
    "\n",
    "\t\tdef update_slices(change: None = None) -> None:\n",
    "\t\t\t# Update slice views by displaying precomputed images\n",
    "\t\t\twith output_x:\n",
    "\t\t\t\toutput_x.clear_output(wait=True)\n",
    "\t\t\t\tdisplay(self.slice_images_x[slice_slider_x.value])\n",
    "\n",
    "\t\t\twith output_y:\n",
    "\t\t\t\toutput_y.clear_output(wait=True)\n",
    "\t\t\t\tdisplay(self.slice_images_y[slice_slider_y.value])\n",
    "\n",
    "\t\t\twith output_z:\n",
    "\t\t\t\toutput_z.clear_output(wait=True)\n",
    "\t\t\t\tdisplay(self.slice_images_z[slice_slider_z.value])\n",
    "\n",
    "\t\t# Observe slider changes\n",
    "\t\tslice_slider_x.observe(update_slices, names=\"value\")\n",
    "\t\tslice_slider_y.observe(update_slices, names=\"value\")\n",
    "\t\tslice_slider_z.observe(update_slices, names=\"value\")\n",
    "\n",
    "\t\t# Initial display\n",
    "\t\tupdate_slices()\n",
    "\n",
    "\t\t# Display sliders and image outputs\n",
    "\t\tdisplay(slice_slider_x, output_x, slice_slider_y, output_y, slice_slider_z, output_z)\n",
    "\n",
    "\tdef visualize_3d(self) -> None:\n",
    "\t\t\"\"\"\n",
    "\t\tVisualize the voxelized 3D object using Plotly Scatter3d.\n",
    "\t\t\"\"\"\n",
    "\t\t# Extract voxel positions where the object exists\n",
    "\t\tx, y, z = np.where(self.image > 0)\n",
    "\t\tvalues = self.image[x, y, z]  # Extract voxel values for coloring\n",
    "\n",
    "\t\t# Create a colormap\n",
    "\t\tcolors = np.array(['blue' if val <= 1 else 'red' for val in values])\n",
    "\n",
    "\t\t# Create a 3D scatter plot\n",
    "\t\tfig = go.Figure(data=go.Scatter3d(\n",
    "\t\t\tx=x, y=y, z=z,\n",
    "\t\t\tmode='markers',\n",
    "\t\t\tmarker=dict(\n",
    "\t\t\t\tsize=1,  # Size of each voxel\n",
    "\t\t\t\tcolor=colors,  # Color based on voxel values\n",
    "\t\t\t\topacity=0.1  # Transparency\n",
    "\t\t\t)\n",
    "\t\t))\n",
    "\n",
    "\t\t# Adjust layout\n",
    "\t\tfig.update_layout(scene=dict(\n",
    "\t\t\txaxis=dict(nticks=10, range=[0, self.image.shape[0]]),\n",
    "\t\t\tyaxis=dict(nticks=10, range=[0, self.image.shape[1]]),\n",
    "\t\t\tzaxis=dict(nticks=10, range=[0, self.image.shape[2]]),\n",
    "\t\t),\n",
    "\t\ttitle=\"3D Voxelized Model\"\n",
    "\t\t)\n",
    "\t\t\n",
    "\t\tfig.show()\n",
    "\n"
   ]
  },
  {
   "cell_type": "code",
   "execution_count": 12,
   "metadata": {},
   "outputs": [
    {
     "data": {
      "application/vnd.jupyter.widget-view+json": {
       "model_id": "1c7200b23e4d4d5f8b14425b3a680e91",
       "version_major": 2,
       "version_minor": 0
      },
      "text/plain": [
       "IntSlider(value=49, description='X Slice (100 total):', max=99)"
      ]
     },
     "metadata": {},
     "output_type": "display_data"
    },
    {
     "data": {
      "application/vnd.jupyter.widget-view+json": {
       "model_id": "70b9cf433ddb4b9590ffe98e0d9ff4d7",
       "version_major": 2,
       "version_minor": 0
      },
      "text/plain": [
       "Output()"
      ]
     },
     "metadata": {},
     "output_type": "display_data"
    },
    {
     "data": {
      "application/vnd.jupyter.widget-view+json": {
       "model_id": "7c2a10611f6b4ff2a939c60f0fa828ec",
       "version_major": 2,
       "version_minor": 0
      },
      "text/plain": [
       "IntSlider(value=49, description='Y Slice (100 total):', max=99)"
      ]
     },
     "metadata": {},
     "output_type": "display_data"
    },
    {
     "data": {
      "application/vnd.jupyter.widget-view+json": {
       "model_id": "b38b5b4d9dfb45b8a571e740c28f28bf",
       "version_major": 2,
       "version_minor": 0
      },
      "text/plain": [
       "Output()"
      ]
     },
     "metadata": {},
     "output_type": "display_data"
    },
    {
     "data": {
      "application/vnd.jupyter.widget-view+json": {
       "model_id": "ccb9b6ebcd7d41f7807796d944f33055",
       "version_major": 2,
       "version_minor": 0
      },
      "text/plain": [
       "IntSlider(value=49, description='Z Slice (100 total):', max=99)"
      ]
     },
     "metadata": {},
     "output_type": "display_data"
    },
    {
     "data": {
      "application/vnd.jupyter.widget-view+json": {
       "model_id": "88980067b1f54a5c8c899479a2b255f8",
       "version_major": 2,
       "version_minor": 0
      },
      "text/plain": [
       "Output()"
      ]
     },
     "metadata": {},
     "output_type": "display_data"
    }
   ],
   "source": [
    "# Example usage\n",
    "visualizer = VoxelVisualizer(image) \n",
    "\n",
    "visualizer.visualize_slices()\n"
   ]
  },
  {
   "cell_type": "code",
   "execution_count": 13,
   "metadata": {},
   "outputs": [
    {
     "data": {
      "application/vnd.jupyter.widget-view+json": {
       "model_id": "e1b5437724ec4658b94f2b7d02fe83be",
       "version_major": 2,
       "version_minor": 0
      },
      "text/plain": [
       "IntSlider(value=9, description='X Slice (20 total):', max=19)"
      ]
     },
     "metadata": {},
     "output_type": "display_data"
    },
    {
     "data": {
      "application/vnd.jupyter.widget-view+json": {
       "model_id": "d5242fdacd324235beba43dd808ad4c1",
       "version_major": 2,
       "version_minor": 0
      },
      "text/plain": [
       "Output()"
      ]
     },
     "metadata": {},
     "output_type": "display_data"
    },
    {
     "data": {
      "application/vnd.jupyter.widget-view+json": {
       "model_id": "229d6d66ba244de88ee5570f3243cffa",
       "version_major": 2,
       "version_minor": 0
      },
      "text/plain": [
       "IntSlider(value=9, description='Y Slice (20 total):', max=19)"
      ]
     },
     "metadata": {},
     "output_type": "display_data"
    },
    {
     "data": {
      "application/vnd.jupyter.widget-view+json": {
       "model_id": "28c5fac166644cd39114882af6d21ad1",
       "version_major": 2,
       "version_minor": 0
      },
      "text/plain": [
       "Output()"
      ]
     },
     "metadata": {},
     "output_type": "display_data"
    },
    {
     "data": {
      "application/vnd.jupyter.widget-view+json": {
       "model_id": "0d50369fabb64be796ba14e5d58ff31f",
       "version_major": 2,
       "version_minor": 0
      },
      "text/plain": [
       "IntSlider(value=9, description='Z Slice (20 total):', max=19)"
      ]
     },
     "metadata": {},
     "output_type": "display_data"
    },
    {
     "data": {
      "application/vnd.jupyter.widget-view+json": {
       "model_id": "0f0efd28636a4b70aff6c4cf0c944d8a",
       "version_major": 2,
       "version_minor": 0
      },
      "text/plain": [
       "Output()"
      ]
     },
     "metadata": {},
     "output_type": "display_data"
    }
   ],
   "source": [
    "star_image = mesh_to_voxels(\"star.glb\", resolution=128, pad=10)\n",
    "resizer = Resize(size = 20, interpolation='linear', anti_alias=True)\n",
    "star_image = resizer(star_image)\n",
    "\n",
    "# flip image on Y axis\n",
    "star_image = sitk.Flip(star_image, [False, True, False])\n",
    "\n",
    "star_visualizer = VoxelVisualizer(star_image)\n",
    "\n",
    "star_visualizer.visualize_slices()\n",
    "\n"
   ]
  },
  {
   "cell_type": "code",
   "execution_count": 14,
   "metadata": {},
   "outputs": [
    {
     "name": "stdout",
     "output_type": "stream",
     "text": [
      "(100, 100, 100) (100, 100, 100)\n"
     ]
    },
    {
     "data": {
      "application/vnd.jupyter.widget-view+json": {
       "model_id": "90d09e200b3d41f89adad6a2374ae4c2",
       "version_major": 2,
       "version_minor": 0
      },
      "text/plain": [
       "IntSlider(value=49, description='X Slice (100 total):', max=99)"
      ]
     },
     "metadata": {},
     "output_type": "display_data"
    },
    {
     "data": {
      "application/vnd.jupyter.widget-view+json": {
       "model_id": "ce9784013c56438796914fdce178fdb3",
       "version_major": 2,
       "version_minor": 0
      },
      "text/plain": [
       "Output()"
      ]
     },
     "metadata": {},
     "output_type": "display_data"
    },
    {
     "data": {
      "application/vnd.jupyter.widget-view+json": {
       "model_id": "3a32dcf36ff54f2f94536ecda870a1d1",
       "version_major": 2,
       "version_minor": 0
      },
      "text/plain": [
       "IntSlider(value=49, description='Y Slice (100 total):', max=99)"
      ]
     },
     "metadata": {},
     "output_type": "display_data"
    },
    {
     "data": {
      "application/vnd.jupyter.widget-view+json": {
       "model_id": "82635d1b812341d889ba3ecaad015e67",
       "version_major": 2,
       "version_minor": 0
      },
      "text/plain": [
       "Output()"
      ]
     },
     "metadata": {},
     "output_type": "display_data"
    },
    {
     "data": {
      "application/vnd.jupyter.widget-view+json": {
       "model_id": "26256c1451b94f87aea86eba4ef49b5a",
       "version_major": 2,
       "version_minor": 0
      },
      "text/plain": [
       "IntSlider(value=49, description='Z Slice (100 total):', max=99)"
      ]
     },
     "metadata": {},
     "output_type": "display_data"
    },
    {
     "data": {
      "application/vnd.jupyter.widget-view+json": {
       "model_id": "715d76ec8577460cbce9698ca63c0f4f",
       "version_major": 2,
       "version_minor": 0
      },
      "text/plain": [
       "Output()"
      ]
     },
     "metadata": {},
     "output_type": "display_data"
    }
   ],
   "source": [
    "import numpy as np\n",
    "import SimpleITK as sitk\n",
    "\n",
    "\n",
    "def insert_star_into_duck(\n",
    "\tduck: sitk.Image, star: sitk.Image, position: tuple[int, int, int]\n",
    ") -> tuple[sitk.Image, sitk.Image]:\n",
    "\t\"\"\"\n",
    "\tInsert a star-shaped voxel object into a larger duck volume at a specified position.\n",
    "\n",
    "\tParameters\n",
    "\t----------\n",
    "\tduck : sitk.Image\n",
    "\t\tThe 3D SimpleITK image of the duck.\n",
    "\tstar : sitk.Image\n",
    "\t\tThe 3D SimpleITK image of the star.\n",
    "\tposition : tuple[int, int, int]\n",
    "\t\tThe (x, y, z) coordinates where the star should be placed inside the duck.\n",
    "\n",
    "\tReturns\n",
    "\t-------\n",
    "\ttuple[sitk.Image, sitk.Image]\n",
    "\t\tA tuple containing:\n",
    "\t\t- The modified duck image with the star embedded.\n",
    "\t\t- A binary mask image where the star is represented as 1, and the rest is 0.\n",
    "\t\"\"\"\n",
    "\t# Convert to NumPy arrays\n",
    "\tduck_array = sitk.GetArrayFromImage(duck)\n",
    "\tstar_array = sitk.GetArrayFromImage(star)\n",
    "\n",
    "\t# Create binary mask of the star\n",
    "\tmask_array = np.zeros_like(duck_array, dtype=np.uint8)\n",
    "\n",
    "\t# Convert star values greater than 0 to 2 in the duck\n",
    "\tstar_array[star_array > 0] = 2\n",
    "\n",
    "\t# Get dimensions\n",
    "\tdx, dy, dz = duck_array.shape\n",
    "\tsx, sy, sz = star_array.shape\n",
    "\tpx, py, pz = position  # Position where the star will be inserted\n",
    "\n",
    "\t# Ensure the star fits within the duck volume\n",
    "\tif px + sx > dx or py + sy > dy or pz + sz > dz:\n",
    "\t\traise ValueError(\"Star does not fit inside the duck at the specified position!\")\n",
    "\n",
    "\t# Insert star into the duck array (preserving intensity values)\n",
    "\tduck_array[px:px + sx, py:py + sy, pz:pz + sz] = np.maximum(\n",
    "\t\tduck_array[px:px + sx, py:py + sy, pz:pz + sz], star_array\n",
    "\t)\n",
    "\n",
    "\t# Create binary mask for the star\n",
    "\t# mask_array[px:px + sx, py:py + sy, pz:pz + sz] = (star_array == 2).astype(np.uint8)\n",
    "\t# get the binary mask from the new duckarray\n",
    "\n",
    "\tmask_array = (duck_array == 2).astype(np.uint8)\n",
    "\n",
    "\n",
    "\t# Convert back to SimpleITK images\n",
    "\tmerged_duck = sitk.GetImageFromArray(duck_array)\n",
    "\tmask_image = sitk.GetImageFromArray(mask_array)\n",
    "\n",
    "\treturn merged_duck, mask_image\n",
    "\n",
    "\n",
    "merged_image, mask_image = insert_star_into_duck(image, star_image, position=(65, 20, 40))\n",
    "\n",
    "merged_path = \"merged_duck_with_star.nii.gz\"\n",
    "mask_path = \"star_mask.nii.gz\"\n",
    "\n",
    "sitk.WriteImage(merged_image, merged_path)\n",
    "sitk.WriteImage(mask_image, mask_path)\n",
    "\n",
    "print(f\"{merged_image.GetSize()} {mask_image.GetSize()}\")\n",
    "\n",
    "merged_visualizer = VoxelVisualizer(merged_image)\n",
    "\n",
    "merged_visualizer.visualize_slices()\n"
   ]
  },
  {
   "cell_type": "code",
   "execution_count": 15,
   "metadata": {},
   "outputs": [],
   "source": [
    "# merged_visualizer.visualize_3d()"
   ]
  },
  {
   "cell_type": "code",
   "execution_count": 16,
   "metadata": {},
   "outputs": [
    {
     "data": {
      "application/vnd.jupyter.widget-view+json": {
       "model_id": "5334729c445e4a1aa278f0ddfa98ce27",
       "version_major": 2,
       "version_minor": 0
      },
      "text/plain": [
       "IntSlider(value=49, description='X Slice (100 total):', max=99)"
      ]
     },
     "metadata": {},
     "output_type": "display_data"
    },
    {
     "data": {
      "application/vnd.jupyter.widget-view+json": {
       "model_id": "b90e9b6fa8564a588427a478c25937c4",
       "version_major": 2,
       "version_minor": 0
      },
      "text/plain": [
       "Output()"
      ]
     },
     "metadata": {},
     "output_type": "display_data"
    },
    {
     "data": {
      "application/vnd.jupyter.widget-view+json": {
       "model_id": "bdd4a11933294d359ea688790124c0fc",
       "version_major": 2,
       "version_minor": 0
      },
      "text/plain": [
       "IntSlider(value=49, description='Y Slice (100 total):', max=99)"
      ]
     },
     "metadata": {},
     "output_type": "display_data"
    },
    {
     "data": {
      "application/vnd.jupyter.widget-view+json": {
       "model_id": "dc38c2b38c7f4e02bbda1dc1f24bbda9",
       "version_major": 2,
       "version_minor": 0
      },
      "text/plain": [
       "Output()"
      ]
     },
     "metadata": {},
     "output_type": "display_data"
    },
    {
     "data": {
      "application/vnd.jupyter.widget-view+json": {
       "model_id": "13078302772c4e97a9ce907fb696fb08",
       "version_major": 2,
       "version_minor": 0
      },
      "text/plain": [
       "IntSlider(value=49, description='Z Slice (100 total):', max=99)"
      ]
     },
     "metadata": {},
     "output_type": "display_data"
    },
    {
     "data": {
      "application/vnd.jupyter.widget-view+json": {
       "model_id": "84efb057c7244cf5b7f4c8857912ce4e",
       "version_major": 2,
       "version_minor": 0
      },
      "text/plain": [
       "Output()"
      ]
     },
     "metadata": {},
     "output_type": "display_data"
    }
   ],
   "source": [
    "\n",
    "merged_image, mask_image = insert_star_into_duck(image, star_image, position=(10, 60, 40))\n",
    "\n",
    "\n",
    "merged_visualizer = VoxelVisualizer(merged_image)\n",
    "\n",
    "merged_visualizer.visualize_slices()\n"
   ]
  }
 ],
 "metadata": {
  "kernelspec": {
   "display_name": "dev",
   "language": "python",
   "name": "python3"
  },
  "language_info": {
   "codemirror_mode": {
    "name": "ipython",
    "version": 3
   },
   "file_extension": ".py",
   "mimetype": "text/x-python",
   "name": "python",
   "nbconvert_exporter": "python",
   "pygments_lexer": "ipython3",
   "version": "3.12.8"
  }
 },
 "nbformat": 4,
 "nbformat_minor": 4
}
